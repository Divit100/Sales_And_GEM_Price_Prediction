{
  "nbformat": 4,
  "nbformat_minor": 0,
  "metadata": {
    "kernelspec": {
      "display_name": "Python 3",
      "language": "python",
      "name": "python3"
    },
    "language_info": {
      "codemirror_mode": {
        "name": "ipython",
        "version": 3
      },
      "file_extension": ".py",
      "mimetype": "text/x-python",
      "name": "python",
      "nbconvert_exporter": "python",
      "pygments_lexer": "ipython3",
      "version": "3.7.7"
    },
    "colab": {
      "name": "@@@sales_prediction________.ipynb",
      "provenance": []
    }
  },
  "cells": [
    {
      "cell_type": "code",
      "metadata": {
        "id": "OpBP8c0kE6UJ",
        "colab_type": "code",
        "colab": {}
      },
      "source": [
        "import numpy as np\n",
        "import pandas as pd\n",
        "import matplotlib.pyplot as plt\n",
        "%matplotlib inline"
      ],
      "execution_count": null,
      "outputs": []
    },
    {
      "cell_type": "code",
      "metadata": {
        "id": "X6baO1CpE6UP",
        "colab_type": "code",
        "colab": {}
      },
      "source": [
        "df=pd.read_csv('C:/Users/Divit/Desktop/Udemy/Tensorflow/TF_2_Notebooks_and_Data/DATA/RSCCASN.csv',parse_dates=True,index_col='DATE')"
      ],
      "execution_count": null,
      "outputs": []
    },
    {
      "cell_type": "code",
      "metadata": {
        "id": "nxPlZGQxE6US",
        "colab_type": "code",
        "colab": {},
        "outputId": "1faaf246-e714-429f-b17d-a8426c78bf7e"
      },
      "source": [
        "df"
      ],
      "execution_count": null,
      "outputs": [
        {
          "output_type": "execute_result",
          "data": {
            "text/html": [
              "<div>\n",
              "<style scoped>\n",
              "    .dataframe tbody tr th:only-of-type {\n",
              "        vertical-align: middle;\n",
              "    }\n",
              "\n",
              "    .dataframe tbody tr th {\n",
              "        vertical-align: top;\n",
              "    }\n",
              "\n",
              "    .dataframe thead th {\n",
              "        text-align: right;\n",
              "    }\n",
              "</style>\n",
              "<table border=\"1\" class=\"dataframe\">\n",
              "  <thead>\n",
              "    <tr style=\"text-align: right;\">\n",
              "      <th></th>\n",
              "      <th>RSCCASN</th>\n",
              "    </tr>\n",
              "    <tr>\n",
              "      <th>DATE</th>\n",
              "      <th></th>\n",
              "    </tr>\n",
              "  </thead>\n",
              "  <tbody>\n",
              "    <tr>\n",
              "      <th>1992-01-01</th>\n",
              "      <td>6938</td>\n",
              "    </tr>\n",
              "    <tr>\n",
              "      <th>1992-02-01</th>\n",
              "      <td>7524</td>\n",
              "    </tr>\n",
              "    <tr>\n",
              "      <th>1992-03-01</th>\n",
              "      <td>8475</td>\n",
              "    </tr>\n",
              "    <tr>\n",
              "      <th>1992-04-01</th>\n",
              "      <td>9401</td>\n",
              "    </tr>\n",
              "    <tr>\n",
              "      <th>1992-05-01</th>\n",
              "      <td>9558</td>\n",
              "    </tr>\n",
              "    <tr>\n",
              "      <th>...</th>\n",
              "      <td>...</td>\n",
              "    </tr>\n",
              "    <tr>\n",
              "      <th>2019-06-01</th>\n",
              "      <td>21123</td>\n",
              "    </tr>\n",
              "    <tr>\n",
              "      <th>2019-07-01</th>\n",
              "      <td>21714</td>\n",
              "    </tr>\n",
              "    <tr>\n",
              "      <th>2019-08-01</th>\n",
              "      <td>23791</td>\n",
              "    </tr>\n",
              "    <tr>\n",
              "      <th>2019-09-01</th>\n",
              "      <td>19695</td>\n",
              "    </tr>\n",
              "    <tr>\n",
              "      <th>2019-10-01</th>\n",
              "      <td>21113</td>\n",
              "    </tr>\n",
              "  </tbody>\n",
              "</table>\n",
              "<p>334 rows × 1 columns</p>\n",
              "</div>"
            ],
            "text/plain": [
              "            RSCCASN\n",
              "DATE               \n",
              "1992-01-01     6938\n",
              "1992-02-01     7524\n",
              "1992-03-01     8475\n",
              "1992-04-01     9401\n",
              "1992-05-01     9558\n",
              "...             ...\n",
              "2019-06-01    21123\n",
              "2019-07-01    21714\n",
              "2019-08-01    23791\n",
              "2019-09-01    19695\n",
              "2019-10-01    21113\n",
              "\n",
              "[334 rows x 1 columns]"
            ]
          },
          "metadata": {
            "tags": []
          },
          "execution_count": 3
        }
      ]
    },
    {
      "cell_type": "code",
      "metadata": {
        "id": "BBOHLlbvE6UW",
        "colab_type": "code",
        "colab": {},
        "outputId": "29da444a-9a78-4a35-f865-152c773220cf"
      },
      "source": [
        "len(df)"
      ],
      "execution_count": null,
      "outputs": [
        {
          "output_type": "execute_result",
          "data": {
            "text/plain": [
              "334"
            ]
          },
          "metadata": {
            "tags": []
          },
          "execution_count": 4
        }
      ]
    },
    {
      "cell_type": "code",
      "metadata": {
        "id": "VwqtR1dSE6UY",
        "colab_type": "code",
        "colab": {},
        "outputId": "d9e64975-7a68-48c3-da06-720ec5144753"
      },
      "source": [
        "df.plot()"
      ],
      "execution_count": null,
      "outputs": [
        {
          "output_type": "execute_result",
          "data": {
            "text/plain": [
              "<matplotlib.axes._subplots.AxesSubplot at 0x2733f965108>"
            ]
          },
          "metadata": {
            "tags": []
          },
          "execution_count": 5
        },
        {
          "output_type": "display_data",
          "data": {
            "image/png": "[encoded data removed]",
            "text/plain": [
              "<Figure size 432x288 with 1 Axes>"
            ]
          },
          "metadata": {
            "tags": [],
            "needs_background": "light"
          }
        }
      ]
    },
    {
      "cell_type": "code",
      "metadata": {
        "id": "-J6lnzhxE6Ub",
        "colab_type": "code",
        "colab": {}
      },
      "source": [
        "test_len=18"
      ],
      "execution_count": null,
      "outputs": []
    },
    {
      "cell_type": "code",
      "metadata": {
        "id": "Z9KVicX8E6Ue",
        "colab_type": "code",
        "colab": {}
      },
      "source": [
        "test_index=int(len(df)-test_len)"
      ],
      "execution_count": null,
      "outputs": []
    },
    {
      "cell_type": "code",
      "metadata": {
        "id": "ytuAMS3ME6Ui",
        "colab_type": "code",
        "colab": {}
      },
      "source": [
        "train_data=df[:test_index]\n",
        "test_data=df[test_index:]"
      ],
      "execution_count": null,
      "outputs": []
    },
    {
      "cell_type": "code",
      "metadata": {
        "id": "ZqlGhSSCE6Ul",
        "colab_type": "code",
        "colab": {},
        "outputId": "def124a2-a87c-40bc-b455-61fa5989d739"
      },
      "source": [
        "len(train_data)"
      ],
      "execution_count": null,
      "outputs": [
        {
          "output_type": "execute_result",
          "data": {
            "text/plain": [
              "316"
            ]
          },
          "metadata": {
            "tags": []
          },
          "execution_count": 9
        }
      ]
    },
    {
      "cell_type": "code",
      "metadata": {
        "id": "uyGHcpLvE6Up",
        "colab_type": "code",
        "colab": {},
        "outputId": "1b3ddfe9-1131-4700-a711-53a9129649e2"
      },
      "source": [
        "len(test_data)"
      ],
      "execution_count": null,
      "outputs": [
        {
          "output_type": "execute_result",
          "data": {
            "text/plain": [
              "18"
            ]
          },
          "metadata": {
            "tags": []
          },
          "execution_count": 10
        }
      ]
    },
    {
      "cell_type": "code",
      "metadata": {
        "id": "2fCCw1KOE6Ut",
        "colab_type": "code",
        "colab": {}
      },
      "source": [
        "from sklearn.preprocessing import MinMaxScaler"
      ],
      "execution_count": null,
      "outputs": []
    },
    {
      "cell_type": "code",
      "metadata": {
        "id": "UTCN68SwE6Uw",
        "colab_type": "code",
        "colab": {}
      },
      "source": [
        "scaler=MinMaxScaler()"
      ],
      "execution_count": null,
      "outputs": []
    },
    {
      "cell_type": "code",
      "metadata": {
        "id": "cTOC5YtYE6Uy",
        "colab_type": "code",
        "colab": {},
        "outputId": "fc0f6bfc-7383-4dec-9d91-974815dd5182"
      },
      "source": [
        "scaler.fit(train_data)"
      ],
      "execution_count": null,
      "outputs": [
        {
          "output_type": "execute_result",
          "data": {
            "text/plain": [
              "MinMaxScaler(copy=True, feature_range=(0, 1))"
            ]
          },
          "metadata": {
            "tags": []
          },
          "execution_count": 14
        }
      ]
    },
    {
      "cell_type": "code",
      "metadata": {
        "id": "u8R_XAtgE6U1",
        "colab_type": "code",
        "colab": {}
      },
      "source": [
        "scaled_train=scaler.transform(train_data)\n",
        "scaled_test=scaler.transform(test_data)"
      ],
      "execution_count": null,
      "outputs": []
    },
    {
      "cell_type": "code",
      "metadata": {
        "id": "WVojnRdfE6U4",
        "colab_type": "code",
        "colab": {}
      },
      "source": [
        "from tensorflow.keras.preprocessing.sequence import TimeseriesGenerator\n",
        "length=12\n"
      ],
      "execution_count": null,
      "outputs": []
    },
    {
      "cell_type": "code",
      "metadata": {
        "id": "t-WFkjyvE6U7",
        "colab_type": "code",
        "colab": {}
      },
      "source": [
        "train_generator=TimeseriesGenerator(scaled_train,scaled_train,length=length,batch_size=1)\n",
        "test_generator=TimeseriesGenerator(scaled_test,scaled_test,length=length,batch_size=1)"
      ],
      "execution_count": null,
      "outputs": []
    },
    {
      "cell_type": "code",
      "metadata": {
        "id": "qXEdxwkAE6U-",
        "colab_type": "code",
        "colab": {}
      },
      "source": [
        "X,Y=train_generator[0]"
      ],
      "execution_count": null,
      "outputs": []
    },
    {
      "cell_type": "code",
      "metadata": {
        "id": "Qxr6T9ELE6VA",
        "colab_type": "code",
        "colab": {},
        "outputId": "cd0aabea-871e-42c2-ffdb-73d2011e24b7"
      },
      "source": [
        "Y"
      ],
      "execution_count": null,
      "outputs": [
        {
          "output_type": "execute_result",
          "data": {
            "text/plain": [
              "array([[0.02047633]])"
            ]
          },
          "metadata": {
            "tags": []
          },
          "execution_count": 19
        }
      ]
    },
    {
      "cell_type": "code",
      "metadata": {
        "id": "jyZQokAhE6VE",
        "colab_type": "code",
        "colab": {},
        "outputId": "e424a40a-0ef1-42d4-e091-1cc79f730d32"
      },
      "source": [
        "scaled_train"
      ],
      "execution_count": null,
      "outputs": [
        {
          "output_type": "execute_result",
          "data": {
            "text/plain": [
              "array([[0.        ],\n",
              "       [0.02127505],\n",
              "       [0.05580163],\n",
              "       [0.08942056],\n",
              "       [0.09512053],\n",
              "       [0.08146965],\n",
              "       [0.07860151],\n",
              "       [0.12979233],\n",
              "       [0.09566512],\n",
              "       [0.1203892 ],\n",
              "       [0.15426227],\n",
              "       [0.41595266],\n",
              "       [0.02047633],\n",
              "       [0.02127505],\n",
              "       [0.06636654],\n",
              "       [0.10633895],\n",
              "       [0.11345484],\n",
              "       [0.09791606],\n",
              "       [0.10368864],\n",
              "       [0.13396747],\n",
              "       [0.11163956],\n",
              "       [0.12372931],\n",
              "       [0.17506535],\n",
              "       [0.43250799],\n",
              "       [0.0124165 ],\n",
              "       [0.03499855],\n",
              "       [0.10829945],\n",
              "       [0.10641156],\n",
              "       [0.11149434],\n",
              "       [0.10728289],\n",
              "       [0.10154662],\n",
              "       [0.1531731 ],\n",
              "       [0.11904589],\n",
              "       [0.13767064],\n",
              "       [0.19663085],\n",
              "       [0.47480395],\n",
              "       [0.02105722],\n",
              "       [0.03714058],\n",
              "       [0.10445106],\n",
              "       [0.11726692],\n",
              "       [0.13367703],\n",
              "       [0.12209556],\n",
              "       [0.10332559],\n",
              "       [0.1570578 ],\n",
              "       [0.13694453],\n",
              "       [0.12710572],\n",
              "       [0.21104415],\n",
              "       [0.47429567],\n",
              "       [0.02708394],\n",
              "       [0.07453529],\n",
              "       [0.12383822],\n",
              "       [0.13186175],\n",
              "       [0.16217688],\n",
              "       [0.13128086],\n",
              "       [0.11850131],\n",
              "       [0.18864362],\n",
              "       [0.13378594],\n",
              "       [0.15654952],\n",
              "       [0.21554604],\n",
              "       [0.47218995],\n",
              "       [0.04559977],\n",
              "       [0.06887162],\n",
              "       [0.14166425],\n",
              "       [0.11592361],\n",
              "       [0.16580744],\n",
              "       [0.13491141],\n",
              "       [0.13781586],\n",
              "       [0.20051554],\n",
              "       [0.14536741],\n",
              "       [0.17052716],\n",
              "       [0.22894278],\n",
              "       [0.51481266],\n",
              "       [0.06760093],\n",
              "       [0.09297851],\n",
              "       [0.14249927],\n",
              "       [0.17742521],\n",
              "       [0.19245571],\n",
              "       [0.16384694],\n",
              "       [0.17045455],\n",
              "       [0.21903137],\n",
              "       [0.15524252],\n",
              "       [0.19772001],\n",
              "       [0.25108917],\n",
              "       [0.56200988],\n",
              "       [0.08346645],\n",
              "       [0.11737584],\n",
              "       [0.18671943],\n",
              "       [0.19779262],\n",
              "       [0.22614726],\n",
              "       [0.19394423],\n",
              "       [0.20051554],\n",
              "       [0.2467325 ],\n",
              "       [0.19673976],\n",
              "       [0.21819634],\n",
              "       [0.27973424],\n",
              "       [0.62982864],\n",
              "       [0.09109062],\n",
              "       [0.15364508],\n",
              "       [0.21431165],\n",
              "       [0.22458612],\n",
              "       [0.24676881],\n",
              "       [0.21837787],\n",
              "       [0.20193146],\n",
              "       [0.27853616],\n",
              "       [0.23369881],\n",
              "       [0.23348098],\n",
              "       [0.31720157],\n",
              "       [0.65121261],\n",
              "       [0.11334592],\n",
              "       [0.16381063],\n",
              "       [0.2225167 ],\n",
              "       [0.23322684],\n",
              "       [0.24865669],\n",
              "       [0.21772437],\n",
              "       [0.20556201],\n",
              "       [0.28608771],\n",
              "       [0.18755446],\n",
              "       [0.22799884],\n",
              "       [0.30547488],\n",
              "       [0.63883241],\n",
              "       [0.12365669],\n",
              "       [0.17397618],\n",
              "       [0.25555475],\n",
              "       [0.22716381],\n",
              "       [0.26183561],\n",
              "       [0.22770839],\n",
              "       [0.21547342],\n",
              "       [0.29679785],\n",
              "       [0.19993465],\n",
              "       [0.25660761],\n",
              "       [0.32576968],\n",
              "       [0.66845774],\n",
              "       [0.14035725],\n",
              "       [0.17150741],\n",
              "       [0.23649434],\n",
              "       [0.24517136],\n",
              "       [0.28289283],\n",
              "       [0.23809178],\n",
              "       [0.25108917],\n",
              "       [0.31164682],\n",
              "       [0.24066947],\n",
              "       [0.27820941],\n",
              "       [0.34915045],\n",
              "       [0.71964856],\n",
              "       [0.17615452],\n",
              "       [0.23257334],\n",
              "       [0.28398199],\n",
              "       [0.29480105],\n",
              "       [0.30645513],\n",
              "       [0.26499419],\n",
              "       [0.28060558],\n",
              "       [0.31404299],\n",
              "       [0.26452222],\n",
              "       [0.31338949],\n",
              "       [0.37365669],\n",
              "       [0.77940749],\n",
              "       [0.18544874],\n",
              "       [0.2519605 ],\n",
              "       [0.31908946],\n",
              "       [0.31839965],\n",
              "       [0.32860151],\n",
              "       [0.31299012],\n",
              "       [0.30060993],\n",
              "       [0.35430584],\n",
              "       [0.2912431 ],\n",
              "       [0.3474804 ],\n",
              "       [0.4162068 ],\n",
              "       [0.84729887],\n",
              "       [0.21619954],\n",
              "       [0.27359861],\n",
              "       [0.34301481],\n",
              "       [0.35978798],\n",
              "       [0.36904589],\n",
              "       [0.34733517],\n",
              "       [0.3389849 ],\n",
              "       [0.39551263],\n",
              "       [0.35684723],\n",
              "       [0.37449172],\n",
              "       [0.45211298],\n",
              "       [0.89035725],\n",
              "       [0.25373947],\n",
              "       [0.29549085],\n",
              "       [0.40324572],\n",
              "       [0.36879175],\n",
              "       [0.4188208 ],\n",
              "       [0.37579872],\n",
              "       [0.36105867],\n",
              "       [0.43247168],\n",
              "       [0.35677462],\n",
              "       [0.38759802],\n",
              "       [0.49419111],\n",
              "       [0.86033256],\n",
              "       [0.26267064],\n",
              "       [0.32449898],\n",
              "       [0.39326169],\n",
              "       [0.36904589],\n",
              "       [0.44096718],\n",
              "       [0.36556056],\n",
              "       [0.37870317],\n",
              "       [0.43940604],\n",
              "       [0.32471682],\n",
              "       [0.35790009],\n",
              "       [0.42905896],\n",
              "       [0.71841417],\n",
              "       [0.23413448],\n",
              "       [0.28122277],\n",
              "       [0.31313535],\n",
              "       [0.34123584],\n",
              "       [0.37489108],\n",
              "       [0.30845193],\n",
              "       [0.32925501],\n",
              "       [0.38912286],\n",
              "       [0.31556782],\n",
              "       [0.36723061],\n",
              "       [0.41366541],\n",
              "       [0.733009  ],\n",
              "       [0.22792623],\n",
              "       [0.2860151 ],\n",
              "       [0.37946558],\n",
              "       [0.36683125],\n",
              "       [0.39170055],\n",
              "       [0.33401104],\n",
              "       [0.35957014],\n",
              "       [0.39881644],\n",
              "       [0.33742376],\n",
              "       [0.3802643 ],\n",
              "       [0.47433198],\n",
              "       [0.78445396],\n",
              "       [0.24560703],\n",
              "       [0.32649579],\n",
              "       [0.41076096],\n",
              "       [0.42510166],\n",
              "       [0.42960354],\n",
              "       [0.39373366],\n",
              "       [0.39932472],\n",
              "       [0.44746587],\n",
              "       [0.40157566],\n",
              "       [0.41086988],\n",
              "       [0.50896747],\n",
              "       [0.87750508],\n",
              "       [0.26938716],\n",
              "       [0.39910688],\n",
              "       [0.48010456],\n",
              "       [0.4234316 ],\n",
              "       [0.4724804 ],\n",
              "       [0.42764304],\n",
              "       [0.41126924],\n",
              "       [0.50145222],\n",
              "       [0.41580744],\n",
              "       [0.43229015],\n",
              "       [0.54741505],\n",
              "       [0.89188208],\n",
              "       [0.29832268],\n",
              "       [0.37917514],\n",
              "       [0.49509875],\n",
              "       [0.44430729],\n",
              "       [0.50254139],\n",
              "       [0.43570288],\n",
              "       [0.44430729],\n",
              "       [0.5307871 ],\n",
              "       [0.40564188],\n",
              "       [0.46895876],\n",
              "       [0.56269968],\n",
              "       [0.89456869],\n",
              "       [0.29919402],\n",
              "       [0.38371333],\n",
              "       [0.47676445],\n",
              "       [0.48591345],\n",
              "       [0.53115016],\n",
              "       [0.43599332],\n",
              "       [0.46797851],\n",
              "       [0.54658002],\n",
              "       [0.42506535],\n",
              "       [0.48221028],\n",
              "       [0.60096573],\n",
              "       [0.93305257],\n",
              "       [0.32043276],\n",
              "       [0.40088586],\n",
              "       [0.50152483],\n",
              "       [0.48834592],\n",
              "       [0.55209846],\n",
              "       [0.46213331],\n",
              "       [0.49469939],\n",
              "       [0.5582341 ],\n",
              "       [0.44339965],\n",
              "       [0.4973497 ],\n",
              "       [0.5864072 ],\n",
              "       [0.95872059],\n",
              "       [0.31789137],\n",
              "       [0.43570288],\n",
              "       [0.52839094],\n",
              "       [0.48976184],\n",
              "       [0.53434505],\n",
              "       [0.48003195],\n",
              "       [0.49843886],\n",
              "       [0.56092071],\n",
              "       [0.4665989 ],\n",
              "       [0.49237584],\n",
              "       [0.60652048],\n",
              "       [1.        ],\n",
              "       [0.3167659 ],\n",
              "       [0.39235405],\n",
              "       [0.51154516],\n",
              "       [0.50515539],\n",
              "       [0.53252977],\n",
              "       [0.48591345],\n",
              "       [0.49364653],\n",
              "       [0.56629393],\n",
              "       [0.46405751],\n",
              "       [0.48536886],\n",
              "       [0.63534708],\n",
              "       [0.97233517],\n",
              "       [0.32468051],\n",
              "       [0.42285071],\n",
              "       [0.5615016 ],\n",
              "       [0.49658728]])"
            ]
          },
          "metadata": {
            "tags": []
          },
          "execution_count": 20
        }
      ]
    },
    {
      "cell_type": "code",
      "metadata": {
        "id": "nqjXeCjME6VH",
        "colab_type": "code",
        "colab": {}
      },
      "source": [
        "from tensorflow.keras.callbacks import EarlyStopping"
      ],
      "execution_count": null,
      "outputs": []
    },
    {
      "cell_type": "code",
      "metadata": {
        "id": "GzUSK6PgE6VJ",
        "colab_type": "code",
        "colab": {}
      },
      "source": [
        "early_stop=EarlyStopping(monitor='val_loss',patience=2)"
      ],
      "execution_count": null,
      "outputs": []
    },
    {
      "cell_type": "code",
      "metadata": {
        "id": "jQb3wjoGE6VL",
        "colab_type": "code",
        "colab": {}
      },
      "source": [
        "from tensorflow.keras.models import Sequential\n",
        "from tensorflow.keras.layers import Dense,LSTM"
      ],
      "execution_count": null,
      "outputs": []
    },
    {
      "cell_type": "code",
      "metadata": {
        "id": "FIs7NwgdE6VN",
        "colab_type": "code",
        "colab": {}
      },
      "source": [
        "n_features=1"
      ],
      "execution_count": null,
      "outputs": []
    },
    {
      "cell_type": "code",
      "metadata": {
        "id": "aBMlgnk0E6VR",
        "colab_type": "code",
        "colab": {}
      },
      "source": [
        "model=Sequential()"
      ],
      "execution_count": null,
      "outputs": []
    },
    {
      "cell_type": "code",
      "metadata": {
        "id": "ZKHw3zR_E6VU",
        "colab_type": "code",
        "colab": {}
      },
      "source": [
        "model.add(LSTM(120,activation='relu',input_shape=(length,n_features)))\n",
        "model.add(Dense(1))\n",
        "\n",
        "model.compile(optimizer='adam',loss='mse')"
      ],
      "execution_count": null,
      "outputs": []
    },
    {
      "cell_type": "code",
      "metadata": {
        "id": "u1PhaTL6E6VX",
        "colab_type": "code",
        "colab": {},
        "outputId": "5fb3c9b0-e46d-40e2-f8e0-ecebb941749e"
      },
      "source": [
        "model.fit_generator(train_generator,epochs=10,validation_data=test_generator,callbacks=[early_stop])"
      ],
      "execution_count": null,
      "outputs": [
        {
          "output_type": "stream",
          "text": [
            "Epoch 1/10\n",
            "304/304 [==============================] - 14s 45ms/step - loss: 0.0257 - val_loss: 0.0041\n",
            "Epoch 2/10\n",
            "304/304 [==============================] - 17s 54ms/step - loss: 0.0171 - val_loss: 0.0308\n",
            "Epoch 3/10\n",
            "304/304 [==============================] - 15s 50ms/step - loss: 0.0103 - val_loss: 0.0033\n",
            "Epoch 4/10\n",
            "304/304 [==============================] - 18s 60ms/step - loss: 0.0052 - val_loss: 0.0012\n",
            "Epoch 5/10\n",
            "304/304 [==============================] - 15s 49ms/step - loss: 0.0038 - val_loss: 7.5387e-04\n",
            "Epoch 6/10\n",
            "304/304 [==============================] - 16s 52ms/step - loss: 0.0016 - val_loss: 0.0012\n",
            "Epoch 7/10\n",
            "304/304 [==============================] - 17s 57ms/step - loss: 0.0014 - val_loss: 6.8495e-04\n",
            "Epoch 8/10\n",
            "304/304 [==============================] - 16s 54ms/step - loss: 0.0017 - val_loss: 0.0013\n",
            "Epoch 9/10\n",
            "304/304 [==============================] - 15s 48ms/step - loss: 0.0015 - val_loss: 0.0015\n"
          ],
          "name": "stdout"
        },
        {
          "output_type": "execute_result",
          "data": {
            "text/plain": [
              "<tensorflow.python.keras.callbacks.History at 0x27348e30248>"
            ]
          },
          "metadata": {
            "tags": []
          },
          "execution_count": 28
        }
      ]
    },
    {
      "cell_type": "code",
      "metadata": {
        "id": "0WKlIg5dE6Va",
        "colab_type": "code",
        "colab": {}
      },
      "source": [
        "losses=pd.DataFrame(model.history.history)"
      ],
      "execution_count": null,
      "outputs": []
    },
    {
      "cell_type": "code",
      "metadata": {
        "id": "ap89fWffE6Vd",
        "colab_type": "code",
        "colab": {},
        "outputId": "056b8a96-808f-4485-cc8d-c341090c5624"
      },
      "source": [
        "losses.plot()"
      ],
      "execution_count": null,
      "outputs": [
        {
          "output_type": "execute_result",
          "data": {
            "text/plain": [
              "<matplotlib.axes._subplots.AxesSubplot at 0x27348e0be48>"
            ]
          },
          "metadata": {
            "tags": []
          },
          "execution_count": 30
        },
        {
          "output_type": "display_data",
          "data": {
            "image/png": "[encoded data removed]",
            "text/plain": [
              "<Figure size 432x288 with 1 Axes>"
            ]
          },
          "metadata": {
            "tags": [],
            "needs_background": "light"
          }
        }
      ]
    },
    {
      "cell_type": "code",
      "metadata": {
        "id": "rUOUalk2E6Vg",
        "colab_type": "code",
        "colab": {}
      },
      "source": [
        "test_predictions=[]\n",
        "\n",
        "first_batch=scaled_train[-length:]\n",
        "current_batch=first_batch.reshape((1,length,n_features))\n",
        "\n",
        "for i in range(len(test_data)):\n",
        "    predictions=model.predict(current_batch)[0]\n",
        "    test_predictions.append(predictions)\n",
        "    current_batch=np.append(current_batch[:,1:,:],[[predictions]],axis=1)"
      ],
      "execution_count": null,
      "outputs": []
    },
    {
      "cell_type": "code",
      "metadata": {
        "id": "9nQIzk3jE6Vj",
        "colab_type": "code",
        "colab": {}
      },
      "source": [
        "test_predictions=scaler.inverse_transform(test_predictions)"
      ],
      "execution_count": null,
      "outputs": []
    },
    {
      "cell_type": "code",
      "metadata": {
        "id": "40_5KShWE6Vl",
        "colab_type": "code",
        "colab": {},
        "outputId": "71e563e4-890a-4b55-881d-5f78eadc9a28"
      },
      "source": [
        "test_data['predictions']=test_predictions"
      ],
      "execution_count": null,
      "outputs": [
        {
          "output_type": "stream",
          "text": [
            "c:\\users\\divit\\anaconda3\\envs\\mytfenv\\lib\\site-packages\\ipykernel_launcher.py:1: SettingWithCopyWarning: \n",
            "A value is trying to be set on a copy of a slice from a DataFrame.\n",
            "Try using .loc[row_indexer,col_indexer] = value instead\n",
            "\n",
            "See the caveats in the documentation: http://pandas.pydata.org/pandas-docs/stable/user_guide/indexing.html#returning-a-view-versus-a-copy\n",
            "  \"\"\"Entry point for launching an IPython kernel.\n"
          ],
          "name": "stderr"
        }
      ]
    },
    {
      "cell_type": "code",
      "metadata": {
        "id": "a0aPELFgE6Vo",
        "colab_type": "code",
        "colab": {}
      },
      "source": [
        "test_data.columns=[['TRUE VALUES','PREDICTIONS']]"
      ],
      "execution_count": null,
      "outputs": []
    },
    {
      "cell_type": "code",
      "metadata": {
        "id": "QY1h8Dt2E6Vs",
        "colab_type": "code",
        "colab": {},
        "outputId": "6c52c307-8c28-4890-8e07-8fb74e2ccfd3"
      },
      "source": [
        "test_data.plot()"
      ],
      "execution_count": null,
      "outputs": [
        {
          "output_type": "execute_result",
          "data": {
            "text/plain": [
              "<matplotlib.axes._subplots.AxesSubplot at 0x2734d97dec8>"
            ]
          },
          "metadata": {
            "tags": []
          },
          "execution_count": 49
        },
        {
          "output_type": "display_data",
          "data": {
            "image/png": "[encoded data removed]",
            "text/plain": [
              "<Figure size 432x288 with 1 Axes>"
            ]
          },
          "metadata": {
            "tags": [],
            "needs_background": "light"
          }
        }
      ]
    },
    {
      "cell_type": "code",
      "metadata": {
        "id": "zBXZ6O1xE6Vu",
        "colab_type": "code",
        "colab": {}
      },
      "source": [
        "####PREDICTING NEW VALUES INTO THE FUTURE#####"
      ],
      "execution_count": null,
      "outputs": []
    },
    {
      "cell_type": "code",
      "metadata": {
        "id": "KCKsxY1yE6Vw",
        "colab_type": "code",
        "colab": {}
      },
      "source": [
        "full_scaler=MinMaxScaler()"
      ],
      "execution_count": null,
      "outputs": []
    },
    {
      "cell_type": "code",
      "metadata": {
        "id": "LfVJPOujE6Vy",
        "colab_type": "code",
        "colab": {},
        "outputId": "3b6d9120-e922-48c0-ab1f-0ab50f8e5d43"
      },
      "source": [
        "full_scaler.fit(df)"
      ],
      "execution_count": null,
      "outputs": [
        {
          "output_type": "execute_result",
          "data": {
            "text/plain": [
              "MinMaxScaler(copy=True, feature_range=(0, 1))"
            ]
          },
          "metadata": {
            "tags": []
          },
          "execution_count": 53
        }
      ]
    },
    {
      "cell_type": "code",
      "metadata": {
        "id": "mSJC2xNLE6V0",
        "colab_type": "code",
        "colab": {}
      },
      "source": [
        "df_scaled=full_scaler.transform(df)"
      ],
      "execution_count": null,
      "outputs": []
    },
    {
      "cell_type": "code",
      "metadata": {
        "id": "BcdL7WIJE6V2",
        "colab_type": "code",
        "colab": {}
      },
      "source": [
        "full_generator=TimeseriesGenerator(df_scaled,df_scaled,length=12,batch_size=1)"
      ],
      "execution_count": null,
      "outputs": []
    },
    {
      "cell_type": "code",
      "metadata": {
        "id": "n3sXSly6E6V4",
        "colab_type": "code",
        "colab": {}
      },
      "source": [
        "full_model=Sequential()"
      ],
      "execution_count": null,
      "outputs": []
    },
    {
      "cell_type": "code",
      "metadata": {
        "id": "Bx1U7gAOE6V6",
        "colab_type": "code",
        "colab": {}
      },
      "source": [
        "full_model.add(LSTM(240,activation='relu',input_shape=(12,1)))\n",
        "full_model.add(Dense(1))\n",
        "\n",
        "full_model.compile(optimizer='adam',loss='mse')"
      ],
      "execution_count": null,
      "outputs": []
    },
    {
      "cell_type": "code",
      "metadata": {
        "id": "DZCtUNI9E6V8",
        "colab_type": "code",
        "colab": {},
        "outputId": "988ad4b2-bd84-4313-889c-f74c643703e4"
      },
      "source": [
        "full_model.fit_generator(full_generator,epochs=7,verbose=1)"
      ],
      "execution_count": null,
      "outputs": [
        {
          "output_type": "stream",
          "text": [
            "Epoch 1/7\n",
            "322/322 [==============================] - 19s 58ms/step - loss: 0.0231\n",
            "Epoch 2/7\n",
            "322/322 [==============================] - 18s 55ms/step - loss: 0.0113\n",
            "Epoch 3/7\n",
            "322/322 [==============================] - 18s 56ms/step - loss: 0.0096\n",
            "Epoch 4/7\n",
            "322/322 [==============================] - 18s 57ms/step - loss: 0.0022\n",
            "Epoch 5/7\n",
            "322/322 [==============================] - 20s 61ms/step - loss: 0.0018\n",
            "Epoch 6/7\n",
            "322/322 [==============================] - 19s 59ms/step - loss: 0.0011\n",
            "Epoch 7/7\n",
            "322/322 [==============================] - 17s 52ms/step - loss: 0.0016\n"
          ],
          "name": "stdout"
        },
        {
          "output_type": "execute_result",
          "data": {
            "text/plain": [
              "<tensorflow.python.keras.callbacks.History at 0x2734d824b88>"
            ]
          },
          "metadata": {
            "tags": []
          },
          "execution_count": 60
        }
      ]
    },
    {
      "cell_type": "code",
      "metadata": {
        "id": "OhpHywLsE6WC",
        "colab_type": "code",
        "colab": {},
        "outputId": "739c311b-9002-432e-a1f1-381c8effea70"
      },
      "source": [
        "loss=pd.DataFrame(full_model.history.history).plot()"
      ],
      "execution_count": null,
      "outputs": [
        {
          "output_type": "display_data",
          "data": {
            "image/png": "[encoded data removed]",
            "text/plain": [
              "<Figure size 432x288 with 1 Axes>"
            ]
          },
          "metadata": {
            "tags": [],
            "needs_background": "light"
          }
        }
      ]
    },
    {
      "cell_type": "code",
      "metadata": {
        "id": "7awLlDH6E6WE",
        "colab_type": "code",
        "colab": {}
      },
      "source": [
        "forecast=[]\n",
        "\n",
        "first_batch=df_scaled[-12:]\n",
        "cur_batch=first_batch.reshape((1,12,1))\n",
        "\n",
        "for x in range(12):\n",
        "    predict_made=full_model.predict(cur_batch)[0]\n",
        "    forecast.append(predict_made)\n",
        "    cur_batch=np.append(cur_batch[:,1:,:],[[predict_made]],axis=1)"
      ],
      "execution_count": null,
      "outputs": []
    },
    {
      "cell_type": "code",
      "metadata": {
        "id": "oXNz0opXE6WH",
        "colab_type": "code",
        "colab": {}
      },
      "source": [
        "forecast=full_scaler.inverse_transform(forecast)"
      ],
      "execution_count": null,
      "outputs": []
    },
    {
      "cell_type": "code",
      "metadata": {
        "id": "Bil52ofyE6WK",
        "colab_type": "code",
        "colab": {}
      },
      "source": [
        "date_index=pd.date_range(start='2019-11-1',freq='MS',periods=12)"
      ],
      "execution_count": null,
      "outputs": []
    },
    {
      "cell_type": "code",
      "metadata": {
        "scrolled": true,
        "id": "2uzChi5ZE6WM",
        "colab_type": "code",
        "colab": {},
        "outputId": "51e4ffc9-c122-40e5-f46d-2f61b6e58952"
      },
      "source": [
        "date_index"
      ],
      "execution_count": null,
      "outputs": [
        {
          "output_type": "execute_result",
          "data": {
            "text/plain": [
              "DatetimeIndex(['2019-11-01', '2019-12-01', '2020-01-01', '2020-02-01',\n",
              "               '2020-03-01', '2020-04-01', '2020-05-01', '2020-06-01',\n",
              "               '2020-07-01', '2020-08-01', '2020-09-01', '2020-10-01'],\n",
              "              dtype='datetime64[ns]', freq='MS')"
            ]
          },
          "metadata": {
            "tags": []
          },
          "execution_count": 76
        }
      ]
    },
    {
      "cell_type": "code",
      "metadata": {
        "id": "d6POrNqTE6WP",
        "colab_type": "code",
        "colab": {}
      },
      "source": [
        "predict_df=pd.DataFrame(forecast,index=date_index,columns=['FUTURE PREDICTIONS'])"
      ],
      "execution_count": null,
      "outputs": []
    },
    {
      "cell_type": "code",
      "metadata": {
        "id": "C8OXMOezE6WS",
        "colab_type": "code",
        "colab": {},
        "outputId": "b1739a7d-9447-4db2-9c72-c00308c620e2"
      },
      "source": [
        "x=df.plot()\n",
        "predict_df.plot(ax=x)\n",
        "plt.xlim('2016-11-01','2020-11-01')"
      ],
      "execution_count": null,
      "outputs": [
        {
          "output_type": "execute_result",
          "data": {
            "text/plain": [
              "(562, 610)"
            ]
          },
          "metadata": {
            "tags": []
          },
          "execution_count": 86
        },
        {
          "output_type": "display_data",
          "data": {
            "image/png": "[encoded data removed]",
            "text/plain": [
              "<Figure size 432x288 with 1 Axes>"
            ]
          },
          "metadata": {
            "tags": [],
            "needs_background": "light"
          }
        }
      ]
    },
    {
      "cell_type": "code",
      "metadata": {
        "id": "IZDgJX_IE6WU",
        "colab_type": "code",
        "colab": {}
      },
      "source": [
        ""
      ],
      "execution_count": null,
      "outputs": []
    }
  ]
}