{
  "nbformat": 4,
  "nbformat_minor": 0,
  "metadata": {
    "kernelspec": {
      "display_name": "Python 3",
      "language": "python",
      "name": "python3"
    },
    "language_info": {
      "codemirror_mode": {
        "name": "ipython",
        "version": 3
      },
      "file_extension": ".py",
      "mimetype": "text/x-python",
      "name": "python",
      "nbconvert_exporter": "python",
      "pygments_lexer": "ipython3",
      "version": "3.7.7"
    },
    "colab": {
      "name": "@@@gem_price_prediction_________.ipynb",
      "provenance": []
    }
  },
  "cells": [
    {
      "cell_type": "code",
      "metadata": {
        "id": "2FGh-W2OQVgl",
        "colab_type": "code",
        "colab": {}
      },
      "source": [
        "import numpy as np\n",
        "import pandas as pd\n",
        "import seaborn as sns \n",
        "import matplotlib.pyplot as plt\n",
        "%matplotlib inline"
      ],
      "execution_count": null,
      "outputs": []
    },
    {
      "cell_type": "code",
      "metadata": {
        "id": "zLNPanQdQVgr",
        "colab_type": "code",
        "colab": {}
      },
      "source": [
        "data=pd.read_csv('DATA/fake_reg.csv')"
      ],
      "execution_count": null,
      "outputs": []
    },
    {
      "cell_type": "code",
      "metadata": {
        "id": "R0Y3mN1TQVgv",
        "colab_type": "code",
        "colab": {},
        "outputId": "39d9b3ce-8167-4478-fb73-269e1036578d"
      },
      "source": [
        "data"
      ],
      "execution_count": null,
      "outputs": [
        {
          "output_type": "execute_result",
          "data": {
            "text/html": [
              "<div>\n",
              "<style scoped>\n",
              "    .dataframe tbody tr th:only-of-type {\n",
              "        vertical-align: middle;\n",
              "    }\n",
              "\n",
              "    .dataframe tbody tr th {\n",
              "        vertical-align: top;\n",
              "    }\n",
              "\n",
              "    .dataframe thead th {\n",
              "        text-align: right;\n",
              "    }\n",
              "</style>\n",
              "<table border=\"1\" class=\"dataframe\">\n",
              "  <thead>\n",
              "    <tr style=\"text-align: right;\">\n",
              "      <th></th>\n",
              "      <th>price</th>\n",
              "      <th>feature1</th>\n",
              "      <th>feature2</th>\n",
              "    </tr>\n",
              "  </thead>\n",
              "  <tbody>\n",
              "    <tr>\n",
              "      <th>0</th>\n",
              "      <td>461.527929</td>\n",
              "      <td>999.787558</td>\n",
              "      <td>999.766096</td>\n",
              "    </tr>\n",
              "    <tr>\n",
              "      <th>1</th>\n",
              "      <td>548.130011</td>\n",
              "      <td>998.861615</td>\n",
              "      <td>1001.042403</td>\n",
              "    </tr>\n",
              "    <tr>\n",
              "      <th>2</th>\n",
              "      <td>410.297162</td>\n",
              "      <td>1000.070267</td>\n",
              "      <td>998.844015</td>\n",
              "    </tr>\n",
              "    <tr>\n",
              "      <th>3</th>\n",
              "      <td>540.382220</td>\n",
              "      <td>999.952251</td>\n",
              "      <td>1000.440940</td>\n",
              "    </tr>\n",
              "    <tr>\n",
              "      <th>4</th>\n",
              "      <td>546.024553</td>\n",
              "      <td>1000.446011</td>\n",
              "      <td>1000.338531</td>\n",
              "    </tr>\n",
              "    <tr>\n",
              "      <th>...</th>\n",
              "      <td>...</td>\n",
              "      <td>...</td>\n",
              "      <td>...</td>\n",
              "    </tr>\n",
              "    <tr>\n",
              "      <th>995</th>\n",
              "      <td>476.526078</td>\n",
              "      <td>1000.018988</td>\n",
              "      <td>999.672732</td>\n",
              "    </tr>\n",
              "    <tr>\n",
              "      <th>996</th>\n",
              "      <td>457.313186</td>\n",
              "      <td>998.855379</td>\n",
              "      <td>1000.020026</td>\n",
              "    </tr>\n",
              "    <tr>\n",
              "      <th>997</th>\n",
              "      <td>456.720992</td>\n",
              "      <td>1001.451646</td>\n",
              "      <td>998.847606</td>\n",
              "    </tr>\n",
              "    <tr>\n",
              "      <th>998</th>\n",
              "      <td>403.315576</td>\n",
              "      <td>1000.771023</td>\n",
              "      <td>998.562851</td>\n",
              "    </tr>\n",
              "    <tr>\n",
              "      <th>999</th>\n",
              "      <td>599.367093</td>\n",
              "      <td>999.232244</td>\n",
              "      <td>1001.451407</td>\n",
              "    </tr>\n",
              "  </tbody>\n",
              "</table>\n",
              "<p>1000 rows × 3 columns</p>\n",
              "</div>"
            ],
            "text/plain": [
              "          price     feature1     feature2\n",
              "0    461.527929   999.787558   999.766096\n",
              "1    548.130011   998.861615  1001.042403\n",
              "2    410.297162  1000.070267   998.844015\n",
              "3    540.382220   999.952251  1000.440940\n",
              "4    546.024553  1000.446011  1000.338531\n",
              "..          ...          ...          ...\n",
              "995  476.526078  1000.018988   999.672732\n",
              "996  457.313186   998.855379  1000.020026\n",
              "997  456.720992  1001.451646   998.847606\n",
              "998  403.315576  1000.771023   998.562851\n",
              "999  599.367093   999.232244  1001.451407\n",
              "\n",
              "[1000 rows x 3 columns]"
            ]
          },
          "metadata": {
            "tags": []
          },
          "execution_count": 77
        }
      ]
    },
    {
      "cell_type": "code",
      "metadata": {
        "id": "kFO_mbcGQVg1",
        "colab_type": "code",
        "colab": {},
        "outputId": "de7f47a8-ac0d-4c49-d4d9-9f3d878d37fc"
      },
      "source": [
        "sns.pairplot(data)"
      ],
      "execution_count": null,
      "outputs": [
        {
          "output_type": "execute_result",
          "data": {
            "text/plain": [
              "<seaborn.axisgrid.PairGrid at 0x1f26faaf3c8>"
            ]
          },
          "metadata": {
            "tags": []
          },
          "execution_count": 3
        },
        {
          "output_type": "display_data",
          "data": {
            "image/png": "[encoded data removed]",
            "text/plain": [
              "<Figure size 540x540 with 12 Axes>"
            ]
          },
          "metadata": {
            "tags": [],
            "needs_background": "light"
          }
        }
      ]
    },
    {
      "cell_type": "code",
      "metadata": {
        "id": "d1aXxq4mQVg7",
        "colab_type": "code",
        "colab": {}
      },
      "source": [
        "X=data[['feature1','feature2']].values"
      ],
      "execution_count": null,
      "outputs": []
    },
    {
      "cell_type": "code",
      "metadata": {
        "id": "5BY-PDA3QVhA",
        "colab_type": "code",
        "colab": {}
      },
      "source": [
        "y=data['price'].values"
      ],
      "execution_count": null,
      "outputs": []
    },
    {
      "cell_type": "code",
      "metadata": {
        "id": "dwGWwO4qQVhE",
        "colab_type": "code",
        "colab": {}
      },
      "source": [
        "from sklearn.model_selection import train_test_split"
      ],
      "execution_count": null,
      "outputs": []
    },
    {
      "cell_type": "code",
      "metadata": {
        "id": "tME-CIVqQVhI",
        "colab_type": "code",
        "colab": {}
      },
      "source": [
        "X_train, X_test, y_train, y_test = train_test_split(X, y, test_size=0.33, random_state=42)"
      ],
      "execution_count": null,
      "outputs": []
    },
    {
      "cell_type": "code",
      "metadata": {
        "id": "QkLHHothQVhM",
        "colab_type": "code",
        "colab": {}
      },
      "source": [
        "from sklearn.preprocessing import MinMaxScaler"
      ],
      "execution_count": null,
      "outputs": []
    },
    {
      "cell_type": "code",
      "metadata": {
        "id": "h5yim7r_QVhQ",
        "colab_type": "code",
        "colab": {}
      },
      "source": [
        "scaler=MinMaxScaler()"
      ],
      "execution_count": null,
      "outputs": []
    },
    {
      "cell_type": "code",
      "metadata": {
        "id": "YvadqARCQVhW",
        "colab_type": "code",
        "colab": {},
        "outputId": "cbcc3e66-e6a7-4dba-da3b-a1793a54b6e4"
      },
      "source": [
        "scaler"
      ],
      "execution_count": null,
      "outputs": [
        {
          "output_type": "execute_result",
          "data": {
            "text/plain": [
              "MinMaxScaler(copy=True, feature_range=(0, 1))"
            ]
          },
          "metadata": {
            "tags": []
          },
          "execution_count": 10
        }
      ]
    },
    {
      "cell_type": "code",
      "metadata": {
        "id": "Z-_7bk5pQVhZ",
        "colab_type": "code",
        "colab": {},
        "outputId": "bf3f7de0-0a3f-4ddd-86e8-55a005b66d06"
      },
      "source": [
        "scaler.fit(X_train)"
      ],
      "execution_count": null,
      "outputs": [
        {
          "output_type": "execute_result",
          "data": {
            "text/plain": [
              "MinMaxScaler(copy=True, feature_range=(0, 1))"
            ]
          },
          "metadata": {
            "tags": []
          },
          "execution_count": 11
        }
      ]
    },
    {
      "cell_type": "code",
      "metadata": {
        "id": "lL0_92asQVhd",
        "colab_type": "code",
        "colab": {}
      },
      "source": [
        "X_train=scaler.transform(X_train)\n",
        "X_test=scaler.transform(X_test)"
      ],
      "execution_count": null,
      "outputs": []
    },
    {
      "cell_type": "code",
      "metadata": {
        "id": "GZDz6xYRQVhh",
        "colab_type": "code",
        "colab": {}
      },
      "source": [
        "from tensorflow.keras.models import Sequential \n",
        "from tensorflow.keras.layers import Dense"
      ],
      "execution_count": null,
      "outputs": []
    },
    {
      "cell_type": "code",
      "metadata": {
        "id": "5nDMCHEMQVhl",
        "colab_type": "code",
        "colab": {}
      },
      "source": [
        "model=Sequential()"
      ],
      "execution_count": null,
      "outputs": []
    },
    {
      "cell_type": "code",
      "metadata": {
        "id": "R-j17ER0QVho",
        "colab_type": "code",
        "colab": {}
      },
      "source": [
        "model.add(Dense(4,activation='relu'))\n",
        "model.add(Dense(4,activation='relu'))\n",
        "model.add(Dense(4,activation='relu'))\n",
        "model.add(Dense(4,activation='relu'))\n",
        "model.add(Dense(1))\n",
        "\n",
        "\n",
        "model.compile(optimizer='rmsprop',loss='mse')"
      ],
      "execution_count": null,
      "outputs": []
    },
    {
      "cell_type": "code",
      "metadata": {
        "id": "2PaG_wTlQVhs",
        "colab_type": "code",
        "colab": {},
        "outputId": "159e1ddd-872b-42e2-bc4e-d8789df30a18"
      },
      "source": [
        "model.fit(X_train,y_train,epochs=250,verbose=2)"
      ],
      "execution_count": null,
      "outputs": [
        {
          "output_type": "stream",
          "text": [
            "Train on 670 samples\n",
            "Epoch 1/250\n",
            "670/670 - 1s - loss: 256469.0197\n",
            "Epoch 2/250\n",
            "670/670 - 0s - loss: 256297.3146\n",
            "Epoch 3/250\n",
            "670/670 - 0s - loss: 256099.2988\n",
            "Epoch 4/250\n",
            "670/670 - 0s - loss: 255874.0137\n",
            "Epoch 5/250\n",
            "670/670 - 0s - loss: 255627.0020\n",
            "Epoch 6/250\n",
            "670/670 - 0s - loss: 255351.9762\n",
            "Epoch 7/250\n",
            "670/670 - 0s - loss: 255026.1303\n",
            "Epoch 8/250\n",
            "670/670 - 0s - loss: 254625.2137\n",
            "Epoch 9/250\n",
            "670/670 - 0s - loss: 254159.6997\n",
            "Epoch 10/250\n",
            "670/670 - 0s - loss: 253587.4446\n",
            "Epoch 11/250\n",
            "670/670 - 0s - loss: 252879.8999\n",
            "Epoch 12/250\n",
            "670/670 - 0s - loss: 252064.6582\n",
            "Epoch 13/250\n",
            "670/670 - 0s - loss: 251145.9972\n",
            "Epoch 14/250\n",
            "670/670 - 0s - loss: 250097.4884\n",
            "Epoch 15/250\n",
            "670/670 - 0s - loss: 248909.5342\n",
            "Epoch 16/250\n",
            "670/670 - 0s - loss: 247566.1544\n",
            "Epoch 17/250\n",
            "670/670 - 0s - loss: 246042.4041\n",
            "Epoch 18/250\n",
            "670/670 - 0s - loss: 244294.8481\n",
            "Epoch 19/250\n",
            "670/670 - 0s - loss: 242321.2911\n",
            "Epoch 20/250\n",
            "670/670 - 0s - loss: 240093.7779\n",
            "Epoch 21/250\n",
            "670/670 - 0s - loss: 237605.3594\n",
            "Epoch 22/250\n",
            "670/670 - 0s - loss: 234828.3501\n",
            "Epoch 23/250\n",
            "670/670 - 0s - loss: 231758.4298\n",
            "Epoch 24/250\n",
            "670/670 - 0s - loss: 228346.2571\n",
            "Epoch 25/250\n",
            "670/670 - 0s - loss: 224594.5915\n",
            "Epoch 26/250\n",
            "670/670 - 0s - loss: 220461.7194\n",
            "Epoch 27/250\n",
            "670/670 - 0s - loss: 215939.2587\n",
            "Epoch 28/250\n",
            "670/670 - 0s - loss: 211005.8451\n",
            "Epoch 29/250\n",
            "670/670 - 0s - loss: 205639.2291\n",
            "Epoch 30/250\n",
            "670/670 - 0s - loss: 199800.3162\n",
            "Epoch 31/250\n",
            "670/670 - 0s - loss: 193460.2015\n",
            "Epoch 32/250\n",
            "670/670 - 0s - loss: 186642.1410\n",
            "Epoch 33/250\n",
            "670/670 - 0s - loss: 179278.2663\n",
            "Epoch 34/250\n",
            "670/670 - 0s - loss: 171414.7587\n",
            "Epoch 35/250\n",
            "670/670 - 0s - loss: 162995.5652\n",
            "Epoch 36/250\n",
            "670/670 - 0s - loss: 154102.7868\n",
            "Epoch 37/250\n",
            "670/670 - 0s - loss: 144675.7112\n",
            "Epoch 38/250\n",
            "670/670 - 0s - loss: 134736.4978\n",
            "Epoch 39/250\n",
            "670/670 - 0s - loss: 124356.0955\n",
            "Epoch 40/250\n",
            "670/670 - 0s - loss: 113620.0131\n",
            "Epoch 41/250\n",
            "670/670 - 0s - loss: 102630.0075\n",
            "Epoch 42/250\n",
            "670/670 - 0s - loss: 91371.1127\n",
            "Epoch 43/250\n",
            "670/670 - 0s - loss: 79984.8700\n",
            "Epoch 44/250\n",
            "670/670 - 0s - loss: 68680.5561\n",
            "Epoch 45/250\n",
            "670/670 - 0s - loss: 57505.7976\n",
            "Epoch 46/250\n",
            "670/670 - 0s - loss: 46795.7796\n",
            "Epoch 47/250\n",
            "670/670 - 0s - loss: 36579.9026\n",
            "Epoch 48/250\n",
            "670/670 - 0s - loss: 27197.3471\n",
            "Epoch 49/250\n",
            "670/670 - 0s - loss: 18958.7197\n",
            "Epoch 50/250\n",
            "670/670 - 0s - loss: 12027.4771\n",
            "Epoch 51/250\n",
            "670/670 - 0s - loss: 6774.0909\n",
            "Epoch 52/250\n",
            "670/670 - 0s - loss: 3352.8225\n",
            "Epoch 53/250\n",
            "670/670 - 0s - loss: 1784.4384\n",
            "Epoch 54/250\n",
            "670/670 - 0s - loss: 1397.2551\n",
            "Epoch 55/250\n",
            "670/670 - 0s - loss: 1345.8988\n",
            "Epoch 56/250\n",
            "670/670 - 0s - loss: 1299.4614\n",
            "Epoch 57/250\n",
            "670/670 - 0s - loss: 1252.4086\n",
            "Epoch 58/250\n",
            "670/670 - 0s - loss: 1205.2602\n",
            "Epoch 59/250\n",
            "670/670 - 0s - loss: 1158.1963\n",
            "Epoch 60/250\n",
            "670/670 - 0s - loss: 1111.0176\n",
            "Epoch 61/250\n",
            "670/670 - 0s - loss: 1067.0062\n",
            "Epoch 62/250\n",
            "670/670 - 0s - loss: 1021.3711\n",
            "Epoch 63/250\n",
            "670/670 - 0s - loss: 990.0236\n",
            "Epoch 64/250\n",
            "670/670 - 0s - loss: 948.7879\n",
            "Epoch 65/250\n",
            "670/670 - 0s - loss: 911.4963\n",
            "Epoch 66/250\n",
            "670/670 - 0s - loss: 866.3525\n",
            "Epoch 67/250\n",
            "670/670 - 0s - loss: 824.3802\n",
            "Epoch 68/250\n",
            "670/670 - 0s - loss: 789.1739\n",
            "Epoch 69/250\n",
            "670/670 - 0s - loss: 745.0817\n",
            "Epoch 70/250\n",
            "670/670 - 0s - loss: 713.1776\n",
            "Epoch 71/250\n",
            "670/670 - 0s - loss: 675.7614\n",
            "Epoch 72/250\n",
            "670/670 - 0s - loss: 639.9405\n",
            "Epoch 73/250\n",
            "670/670 - 0s - loss: 603.0868\n",
            "Epoch 74/250\n",
            "670/670 - 0s - loss: 561.4462\n",
            "Epoch 75/250\n",
            "670/670 - 0s - loss: 532.3246\n",
            "Epoch 76/250\n",
            "670/670 - 0s - loss: 500.9824\n",
            "Epoch 77/250\n",
            "670/670 - 0s - loss: 469.1148\n",
            "Epoch 78/250\n",
            "670/670 - 0s - loss: 434.7285\n",
            "Epoch 79/250\n",
            "670/670 - 0s - loss: 408.0980\n",
            "Epoch 80/250\n",
            "670/670 - 0s - loss: 379.0023\n",
            "Epoch 81/250\n",
            "670/670 - 0s - loss: 351.0660\n",
            "Epoch 82/250\n",
            "670/670 - 0s - loss: 325.8292\n",
            "Epoch 83/250\n",
            "670/670 - 0s - loss: 301.2854\n",
            "Epoch 84/250\n",
            "670/670 - 0s - loss: 278.0931\n",
            "Epoch 85/250\n",
            "670/670 - 0s - loss: 253.7060\n",
            "Epoch 86/250\n",
            "670/670 - 0s - loss: 229.3971\n",
            "Epoch 87/250\n",
            "670/670 - 0s - loss: 212.0829\n",
            "Epoch 88/250\n",
            "670/670 - 0s - loss: 190.5363\n",
            "Epoch 89/250\n",
            "670/670 - 0s - loss: 172.9246\n",
            "Epoch 90/250\n",
            "670/670 - 0s - loss: 156.2139\n",
            "Epoch 91/250\n",
            "670/670 - 0s - loss: 138.2710\n",
            "Epoch 92/250\n",
            "670/670 - 0s - loss: 124.3205\n",
            "Epoch 93/250\n",
            "670/670 - 0s - loss: 111.0394\n",
            "Epoch 94/250\n",
            "670/670 - 0s - loss: 97.0527\n",
            "Epoch 95/250\n",
            "670/670 - 0s - loss: 85.0972\n",
            "Epoch 96/250\n",
            "670/670 - 0s - loss: 76.1081\n",
            "Epoch 97/250\n",
            "670/670 - 0s - loss: 68.8175\n",
            "Epoch 98/250\n",
            "670/670 - 0s - loss: 59.6954\n",
            "Epoch 99/250\n",
            "670/670 - 0s - loss: 54.6841\n",
            "Epoch 100/250\n",
            "670/670 - 0s - loss: 47.9522\n",
            "Epoch 101/250\n",
            "670/670 - 0s - loss: 44.8446\n",
            "Epoch 102/250\n",
            "670/670 - 0s - loss: 39.8123\n",
            "Epoch 103/250\n",
            "670/670 - 0s - loss: 36.8634\n",
            "Epoch 104/250\n",
            "670/670 - 0s - loss: 34.6488\n",
            "Epoch 105/250\n",
            "670/670 - 0s - loss: 33.5149\n",
            "Epoch 106/250\n",
            "670/670 - 0s - loss: 31.4702\n",
            "Epoch 107/250\n",
            "670/670 - 0s - loss: 30.4154\n",
            "Epoch 108/250\n",
            "670/670 - 0s - loss: 29.3521\n",
            "Epoch 109/250\n",
            "670/670 - 0s - loss: 27.7954\n",
            "Epoch 110/250\n",
            "670/670 - 0s - loss: 27.8953\n",
            "Epoch 111/250\n",
            "670/670 - 0s - loss: 27.5930\n",
            "Epoch 112/250\n",
            "670/670 - 0s - loss: 26.3836\n",
            "Epoch 113/250\n",
            "670/670 - 0s - loss: 26.8906\n",
            "Epoch 114/250\n",
            "670/670 - 0s - loss: 26.3257\n",
            "Epoch 115/250\n",
            "670/670 - 0s - loss: 25.6304\n",
            "Epoch 116/250\n",
            "670/670 - 0s - loss: 26.3365\n",
            "Epoch 117/250\n",
            "670/670 - 0s - loss: 26.0117\n",
            "Epoch 118/250\n",
            "670/670 - 0s - loss: 25.8787\n",
            "Epoch 119/250\n",
            "670/670 - 0s - loss: 25.9818\n",
            "Epoch 120/250\n",
            "670/670 - 0s - loss: 25.6328\n",
            "Epoch 121/250\n",
            "670/670 - 0s - loss: 26.1901\n",
            "Epoch 122/250\n",
            "670/670 - 0s - loss: 26.2494\n",
            "Epoch 123/250\n",
            "670/670 - 0s - loss: 26.6816\n",
            "Epoch 124/250\n",
            "670/670 - 0s - loss: 25.4551\n",
            "Epoch 125/250\n",
            "670/670 - 0s - loss: 26.0007\n",
            "Epoch 126/250\n",
            "670/670 - 0s - loss: 25.5869\n",
            "Epoch 127/250\n",
            "670/670 - 0s - loss: 26.1154\n",
            "Epoch 128/250\n",
            "670/670 - 0s - loss: 25.5777\n",
            "Epoch 129/250\n",
            "670/670 - 0s - loss: 25.8710\n",
            "Epoch 130/250\n",
            "670/670 - 0s - loss: 25.3365\n",
            "Epoch 131/250\n",
            "670/670 - 0s - loss: 25.4440\n",
            "Epoch 132/250\n",
            "670/670 - 0s - loss: 25.6737\n",
            "Epoch 133/250\n",
            "670/670 - 0s - loss: 25.0623\n",
            "Epoch 134/250\n",
            "670/670 - 0s - loss: 25.6952\n",
            "Epoch 135/250\n",
            "670/670 - 0s - loss: 25.5237\n",
            "Epoch 136/250\n",
            "670/670 - 0s - loss: 25.3670\n",
            "Epoch 137/250\n",
            "670/670 - 0s - loss: 25.7120\n",
            "Epoch 138/250\n",
            "670/670 - 0s - loss: 25.5523\n",
            "Epoch 139/250\n",
            "670/670 - 0s - loss: 26.5284\n",
            "Epoch 140/250\n",
            "670/670 - 0s - loss: 25.5222\n",
            "Epoch 141/250\n",
            "670/670 - 0s - loss: 24.8846\n",
            "Epoch 142/250\n",
            "670/670 - 0s - loss: 25.6634\n",
            "Epoch 143/250\n",
            "670/670 - 0s - loss: 26.2826\n",
            "Epoch 144/250\n",
            "670/670 - 0s - loss: 25.8125\n",
            "Epoch 145/250\n",
            "670/670 - 0s - loss: 25.7119\n",
            "Epoch 146/250\n",
            "670/670 - 0s - loss: 25.8135\n",
            "Epoch 147/250\n",
            "670/670 - 0s - loss: 26.2927\n",
            "Epoch 148/250\n",
            "670/670 - 0s - loss: 25.8817\n",
            "Epoch 149/250\n",
            "670/670 - 0s - loss: 25.2209\n",
            "Epoch 150/250\n",
            "670/670 - 0s - loss: 25.1199\n",
            "Epoch 151/250\n",
            "670/670 - 0s - loss: 26.1236\n",
            "Epoch 152/250\n",
            "670/670 - 0s - loss: 26.0976\n",
            "Epoch 153/250\n",
            "670/670 - 0s - loss: 26.4700\n",
            "Epoch 154/250\n",
            "670/670 - 0s - loss: 25.5453\n",
            "Epoch 155/250\n",
            "670/670 - 0s - loss: 24.9714\n",
            "Epoch 156/250\n",
            "670/670 - 0s - loss: 25.9368\n",
            "Epoch 157/250\n",
            "670/670 - 0s - loss: 24.8347\n",
            "Epoch 158/250\n",
            "670/670 - 0s - loss: 25.4317\n",
            "Epoch 159/250\n",
            "670/670 - 0s - loss: 26.0769\n",
            "Epoch 160/250\n",
            "670/670 - 0s - loss: 24.6740\n",
            "Epoch 161/250\n",
            "670/670 - 0s - loss: 25.7310\n",
            "Epoch 162/250\n",
            "670/670 - 0s - loss: 25.3738\n",
            "Epoch 163/250\n",
            "670/670 - 0s - loss: 26.0647\n",
            "Epoch 164/250\n",
            "670/670 - 0s - loss: 25.6511\n",
            "Epoch 165/250\n",
            "670/670 - 0s - loss: 25.7855\n",
            "Epoch 166/250\n",
            "670/670 - 0s - loss: 25.3152\n",
            "Epoch 167/250\n",
            "670/670 - 0s - loss: 26.3790\n",
            "Epoch 168/250\n",
            "670/670 - 0s - loss: 25.8560\n",
            "Epoch 169/250\n",
            "670/670 - 0s - loss: 26.2855\n",
            "Epoch 170/250\n",
            "670/670 - 0s - loss: 25.7887\n",
            "Epoch 171/250\n",
            "670/670 - 0s - loss: 25.1089\n",
            "Epoch 172/250\n",
            "670/670 - 0s - loss: 26.2583\n",
            "Epoch 173/250\n",
            "670/670 - 0s - loss: 25.5426\n",
            "Epoch 174/250\n",
            "670/670 - 0s - loss: 25.1726\n",
            "Epoch 175/250\n",
            "670/670 - 0s - loss: 25.6826\n",
            "Epoch 176/250\n",
            "670/670 - 0s - loss: 25.4473\n",
            "Epoch 177/250\n",
            "670/670 - 0s - loss: 26.2580\n",
            "Epoch 178/250\n",
            "670/670 - 0s - loss: 25.2923\n",
            "Epoch 179/250\n",
            "670/670 - 0s - loss: 25.5102\n",
            "Epoch 180/250\n",
            "670/670 - 0s - loss: 25.5832\n",
            "Epoch 181/250\n",
            "670/670 - 0s - loss: 25.5149\n",
            "Epoch 182/250\n",
            "670/670 - 0s - loss: 25.7350\n",
            "Epoch 183/250\n",
            "670/670 - 0s - loss: 25.8991\n",
            "Epoch 184/250\n",
            "670/670 - 0s - loss: 25.3164\n",
            "Epoch 185/250\n",
            "670/670 - 0s - loss: 25.3218\n",
            "Epoch 186/250\n",
            "670/670 - 0s - loss: 26.5228\n",
            "Epoch 187/250\n",
            "670/670 - 0s - loss: 25.6205\n"
          ],
          "name": "stdout"
        },
        {
          "output_type": "stream",
          "text": [
            "Epoch 188/250\n",
            "670/670 - 0s - loss: 25.5005\n",
            "Epoch 189/250\n",
            "670/670 - 0s - loss: 26.0380\n",
            "Epoch 190/250\n",
            "670/670 - 0s - loss: 25.7116\n",
            "Epoch 191/250\n",
            "670/670 - 0s - loss: 25.3483\n",
            "Epoch 192/250\n",
            "670/670 - 0s - loss: 25.6777\n",
            "Epoch 193/250\n",
            "670/670 - 0s - loss: 25.1196\n",
            "Epoch 194/250\n",
            "670/670 - 0s - loss: 25.1753\n",
            "Epoch 195/250\n",
            "670/670 - 0s - loss: 26.4349\n",
            "Epoch 196/250\n",
            "670/670 - 0s - loss: 26.0844\n",
            "Epoch 197/250\n",
            "670/670 - 0s - loss: 25.7832\n",
            "Epoch 198/250\n",
            "670/670 - 0s - loss: 25.8188\n",
            "Epoch 199/250\n",
            "670/670 - 0s - loss: 25.8397\n",
            "Epoch 200/250\n",
            "670/670 - 0s - loss: 25.6125\n",
            "Epoch 201/250\n",
            "670/670 - 0s - loss: 25.7728\n",
            "Epoch 202/250\n",
            "670/670 - 0s - loss: 25.0867\n",
            "Epoch 203/250\n",
            "670/670 - 0s - loss: 26.1188\n",
            "Epoch 204/250\n",
            "670/670 - 0s - loss: 25.1763\n",
            "Epoch 205/250\n",
            "670/670 - 0s - loss: 25.6564\n",
            "Epoch 206/250\n",
            "670/670 - 0s - loss: 26.4334\n",
            "Epoch 207/250\n",
            "670/670 - 0s - loss: 24.9780\n",
            "Epoch 208/250\n",
            "670/670 - 0s - loss: 24.7594\n",
            "Epoch 209/250\n",
            "670/670 - 0s - loss: 25.5955\n",
            "Epoch 210/250\n",
            "670/670 - 0s - loss: 25.9030\n",
            "Epoch 211/250\n",
            "670/670 - 0s - loss: 26.8614\n",
            "Epoch 212/250\n",
            "670/670 - 0s - loss: 25.7149\n",
            "Epoch 213/250\n",
            "670/670 - 0s - loss: 25.8055\n",
            "Epoch 214/250\n",
            "670/670 - 0s - loss: 25.5914\n",
            "Epoch 215/250\n",
            "670/670 - 0s - loss: 24.6886\n",
            "Epoch 216/250\n",
            "670/670 - 0s - loss: 25.3320\n",
            "Epoch 217/250\n",
            "670/670 - 0s - loss: 25.1637\n",
            "Epoch 218/250\n",
            "670/670 - 0s - loss: 25.3716\n",
            "Epoch 219/250\n",
            "670/670 - 0s - loss: 26.1299\n",
            "Epoch 220/250\n",
            "670/670 - 0s - loss: 25.4295\n",
            "Epoch 221/250\n",
            "670/670 - 0s - loss: 26.2517\n",
            "Epoch 222/250\n",
            "670/670 - 0s - loss: 26.1789\n",
            "Epoch 223/250\n",
            "670/670 - 0s - loss: 25.2126\n",
            "Epoch 224/250\n",
            "670/670 - 0s - loss: 25.5505\n",
            "Epoch 225/250\n",
            "670/670 - 0s - loss: 25.9692\n",
            "Epoch 226/250\n",
            "670/670 - 0s - loss: 24.8442\n",
            "Epoch 227/250\n",
            "670/670 - 0s - loss: 25.2359\n",
            "Epoch 228/250\n",
            "670/670 - 0s - loss: 25.5360\n",
            "Epoch 229/250\n",
            "670/670 - 0s - loss: 24.9387\n",
            "Epoch 230/250\n",
            "670/670 - 0s - loss: 25.9533\n",
            "Epoch 231/250\n",
            "670/670 - 0s - loss: 25.2316\n",
            "Epoch 232/250\n",
            "670/670 - 0s - loss: 26.1135\n",
            "Epoch 233/250\n",
            "670/670 - 0s - loss: 25.0887\n",
            "Epoch 234/250\n",
            "670/670 - 0s - loss: 26.1464\n",
            "Epoch 235/250\n",
            "670/670 - 0s - loss: 25.9254\n",
            "Epoch 236/250\n",
            "670/670 - 0s - loss: 25.2398\n",
            "Epoch 237/250\n",
            "670/670 - 0s - loss: 25.8209\n",
            "Epoch 238/250\n",
            "670/670 - 0s - loss: 25.4072\n",
            "Epoch 239/250\n",
            "670/670 - 0s - loss: 25.6601\n",
            "Epoch 240/250\n",
            "670/670 - 0s - loss: 25.3991\n",
            "Epoch 241/250\n",
            "670/670 - 0s - loss: 26.6835\n",
            "Epoch 242/250\n",
            "670/670 - 0s - loss: 25.6455\n",
            "Epoch 243/250\n",
            "670/670 - 0s - loss: 25.2089\n",
            "Epoch 244/250\n",
            "670/670 - 0s - loss: 26.2454\n",
            "Epoch 245/250\n",
            "670/670 - 0s - loss: 25.7491\n",
            "Epoch 246/250\n",
            "670/670 - 0s - loss: 26.1971\n",
            "Epoch 247/250\n",
            "670/670 - 0s - loss: 25.7401\n",
            "Epoch 248/250\n",
            "670/670 - 0s - loss: 25.4470\n",
            "Epoch 249/250\n",
            "670/670 - 0s - loss: 25.3134\n",
            "Epoch 250/250\n",
            "670/670 - 0s - loss: 25.5167\n"
          ],
          "name": "stdout"
        },
        {
          "output_type": "execute_result",
          "data": {
            "text/plain": [
              "<tensorflow.python.keras.callbacks.History at 0x1f278657d08>"
            ]
          },
          "metadata": {
            "tags": []
          },
          "execution_count": 16
        }
      ]
    },
    {
      "cell_type": "code",
      "metadata": {
        "id": "T_h-Jx7NQVhw",
        "colab_type": "code",
        "colab": {}
      },
      "source": [
        "cost=pd.DataFrame(model.history.history)"
      ],
      "execution_count": null,
      "outputs": []
    },
    {
      "cell_type": "code",
      "metadata": {
        "id": "O-Vj1DjFQVh4",
        "colab_type": "code",
        "colab": {},
        "outputId": "3ee9a601-6aad-4f4a-948a-0d151e211cc9"
      },
      "source": [
        "cost.plot()"
      ],
      "execution_count": null,
      "outputs": [
        {
          "output_type": "execute_result",
          "data": {
            "text/plain": [
              "<matplotlib.axes._subplots.AxesSubplot at 0x1f279eb5d08>"
            ]
          },
          "metadata": {
            "tags": []
          },
          "execution_count": 18
        },
        {
          "output_type": "display_data",
          "data": {
            "image/png": "[encoded data removed]",
            "text/plain": [
              "<Figure size 432x288 with 1 Axes>"
            ]
          },
          "metadata": {
            "tags": [],
            "needs_background": "light"
          }
        }
      ]
    },
    {
      "cell_type": "code",
      "metadata": {
        "id": "o5UvuV2CQVh8",
        "colab_type": "code",
        "colab": {},
        "outputId": "01b8a893-5817-4f4e-bef3-27a32e309c9d"
      },
      "source": [
        "model.evaluate(X_test,y_test,verbose=2)"
      ],
      "execution_count": null,
      "outputs": [
        {
          "output_type": "stream",
          "text": [
            "330/1 - 0s - loss: 28.0071\n"
          ],
          "name": "stdout"
        },
        {
          "output_type": "execute_result",
          "data": {
            "text/plain": [
              "26.95094292380593"
            ]
          },
          "metadata": {
            "tags": []
          },
          "execution_count": 47
        }
      ]
    },
    {
      "cell_type": "code",
      "metadata": {
        "id": "kHAHFN5xQVh_",
        "colab_type": "code",
        "colab": {},
        "outputId": "4ef65f98-c1d4-4636-9a88-4979465b9b0e"
      },
      "source": [
        "model.evaluate(X_train,y_train,verbose=0)"
      ],
      "execution_count": null,
      "outputs": [
        {
          "output_type": "execute_result",
          "data": {
            "text/plain": [
              "27.60602075946865"
            ]
          },
          "metadata": {
            "tags": []
          },
          "execution_count": 48
        }
      ]
    },
    {
      "cell_type": "code",
      "metadata": {
        "id": "9pNz1yXxQViD",
        "colab_type": "code",
        "colab": {}
      },
      "source": [
        "predictions=model.predict(X_test)"
      ],
      "execution_count": null,
      "outputs": []
    },
    {
      "cell_type": "code",
      "metadata": {
        "id": "wft-LLTaQViG",
        "colab_type": "code",
        "colab": {},
        "outputId": "18cb4b66-d6d2-459e-f6aa-58231c2b808d"
      },
      "source": [
        "predictions"
      ],
      "execution_count": null,
      "outputs": [
        {
          "output_type": "execute_result",
          "data": {
            "text/plain": [
              "array([[403.93015],\n",
              "       [621.6499 ],\n",
              "       [590.32574],\n",
              "       [570.44434],\n",
              "       [365.3188 ],\n",
              "       [577.39264],\n",
              "       [513.39526],\n",
              "       [457.63004],\n",
              "       [547.5198 ],\n",
              "       [446.07294],\n",
              "       [609.92554],\n",
              "       [547.2692 ],\n",
              "       [417.70444],\n",
              "       [407.49405],\n",
              "       [649.31854],\n",
              "       [435.87115],\n",
              "       [506.8689 ],\n",
              "       [657.9262 ],\n",
              "       [660.58734],\n",
              "       [563.8017 ],\n",
              "       [333.02426],\n",
              "       [443.37637],\n",
              "       [381.21008],\n",
              "       [377.46146],\n",
              "       [564.84174],\n",
              "       [608.71735],\n",
              "       [530.71796],\n",
              "       [426.4491 ],\n",
              "       [653.4584 ],\n",
              "       [412.7134 ],\n",
              "       [441.19858],\n",
              "       [483.57486],\n",
              "       [436.977  ],\n",
              "       [679.8027 ],\n",
              "       [423.37225],\n",
              "       [416.2831 ],\n",
              "       [500.3678 ],\n",
              "       [548.7661 ],\n",
              "       [508.09576],\n",
              "       [393.99142],\n",
              "       [616.721  ],\n",
              "       [415.25095],\n",
              "       [602.6124 ],\n",
              "       [444.52475],\n",
              "       [500.39438],\n",
              "       [579.96326],\n",
              "       [667.0273 ],\n",
              "       [488.84946],\n",
              "       [317.44492],\n",
              "       [483.87033],\n",
              "       [515.63855],\n",
              "       [380.5047 ],\n",
              "       [540.24194],\n",
              "       [407.2288 ],\n",
              "       [639.5957 ],\n",
              "       [489.50397],\n",
              "       [626.01996],\n",
              "       [625.1306 ],\n",
              "       [445.61276],\n",
              "       [483.13724],\n",
              "       [489.5581 ],\n",
              "       [473.02216],\n",
              "       [680.7619 ],\n",
              "       [401.9247 ],\n",
              "       [699.0615 ],\n",
              "       [584.5928 ],\n",
              "       [581.3352 ],\n",
              "       [536.1888 ],\n",
              "       [483.02393],\n",
              "       [514.91864],\n",
              "       [359.977  ],\n",
              "       [539.0687 ],\n",
              "       [568.8625 ],\n",
              "       [526.8308 ],\n",
              "       [452.25162],\n",
              "       [529.48694],\n",
              "       [505.62204],\n",
              "       [441.8701 ],\n",
              "       [541.66956],\n",
              "       [638.8449 ],\n",
              "       [464.47943],\n",
              "       [565.51624],\n",
              "       [688.73627],\n",
              "       [457.23965],\n",
              "       [706.80133],\n",
              "       [471.17398],\n",
              "       [401.9477 ],\n",
              "       [583.30774],\n",
              "       [435.34586],\n",
              "       [487.41425],\n",
              "       [615.17236],\n",
              "       [438.0507 ],\n",
              "       [453.8352 ],\n",
              "       [433.82483],\n",
              "       [505.2923 ],\n",
              "       [606.5911 ],\n",
              "       [320.47354],\n",
              "       [434.8464 ],\n",
              "       [534.67505],\n",
              "       [516.9909 ],\n",
              "       [603.1933 ],\n",
              "       [523.7943 ],\n",
              "       [332.96677],\n",
              "       [574.41376],\n",
              "       [430.33456],\n",
              "       [560.84595],\n",
              "       [511.79037],\n",
              "       [389.75446],\n",
              "       [564.4795 ],\n",
              "       [453.3474 ],\n",
              "       [447.01663],\n",
              "       [639.03577],\n",
              "       [522.74634],\n",
              "       [548.99255],\n",
              "       [416.3066 ],\n",
              "       [477.20258],\n",
              "       [584.7281 ],\n",
              "       [665.3723 ],\n",
              "       [698.3788 ],\n",
              "       [657.39453],\n",
              "       [558.8335 ],\n",
              "       [501.59454],\n",
              "       [389.0185 ],\n",
              "       [280.2785 ],\n",
              "       [478.0857 ],\n",
              "       [614.5226 ],\n",
              "       [372.05463],\n",
              "       [510.64825],\n",
              "       [509.3956 ],\n",
              "       [491.9071 ],\n",
              "       [478.92377],\n",
              "       [422.37213],\n",
              "       [491.8837 ],\n",
              "       [469.95892],\n",
              "       [598.63983],\n",
              "       [571.84564],\n",
              "       [413.56396],\n",
              "       [628.7508 ],\n",
              "       [464.87903],\n",
              "       [562.609  ],\n",
              "       [404.3295 ],\n",
              "       [530.5112 ],\n",
              "       [570.8744 ],\n",
              "       [355.83066],\n",
              "       [548.12445],\n",
              "       [601.5214 ],\n",
              "       [382.9929 ],\n",
              "       [540.6937 ],\n",
              "       [560.8612 ],\n",
              "       [451.42975],\n",
              "       [630.3034 ],\n",
              "       [370.9593 ],\n",
              "       [472.71985],\n",
              "       [527.1986 ],\n",
              "       [371.0338 ],\n",
              "       [459.73447],\n",
              "       [434.86923],\n",
              "       [496.91333],\n",
              "       [344.91937],\n",
              "       [393.97192],\n",
              "       [602.7537 ],\n",
              "       [505.06152],\n",
              "       [467.10376],\n",
              "       [488.81854],\n",
              "       [533.63214],\n",
              "       [343.2866 ],\n",
              "       [510.74493],\n",
              "       [249.83017],\n",
              "       [502.49597],\n",
              "       [539.3976 ],\n",
              "       [487.81015],\n",
              "       [469.6027 ],\n",
              "       [391.22812],\n",
              "       [414.898  ],\n",
              "       [547.86835],\n",
              "       [474.25455],\n",
              "       [578.15857],\n",
              "       [488.19653],\n",
              "       [599.13605],\n",
              "       [545.31305],\n",
              "       [540.2883 ],\n",
              "       [499.0005 ],\n",
              "       [643.8967 ],\n",
              "       [558.6846 ],\n",
              "       [576.19415],\n",
              "       [442.70483],\n",
              "       [414.1571 ],\n",
              "       [418.6316 ],\n",
              "       [567.388  ],\n",
              "       [607.15894],\n",
              "       [436.338  ],\n",
              "       [486.42447],\n",
              "       [585.94104],\n",
              "       [523.72675],\n",
              "       [356.12106],\n",
              "       [643.4759 ],\n",
              "       [526.3736 ],\n",
              "       [336.02386],\n",
              "       [491.12558],\n",
              "       [408.807  ],\n",
              "       [604.76666],\n",
              "       [345.3394 ],\n",
              "       [520.798  ],\n",
              "       [403.34634],\n",
              "       [257.38913],\n",
              "       [518.2766 ],\n",
              "       [339.7254 ],\n",
              "       [360.77982],\n",
              "       [574.67096],\n",
              "       [415.31146],\n",
              "       [549.2734 ],\n",
              "       [519.4436 ],\n",
              "       [509.0075 ],\n",
              "       [323.59872],\n",
              "       [402.77914],\n",
              "       [600.5575 ],\n",
              "       [615.98267],\n",
              "       [601.4103 ],\n",
              "       [564.56903],\n",
              "       [471.89496],\n",
              "       [458.88516],\n",
              "       [506.82666],\n",
              "       [444.46432],\n",
              "       [509.7244 ],\n",
              "       [500.7676 ],\n",
              "       [398.8064 ],\n",
              "       [603.69104],\n",
              "       [257.13412],\n",
              "       [626.3689 ],\n",
              "       [587.3686 ],\n",
              "       [325.99594],\n",
              "       [478.00174],\n",
              "       [593.5392 ],\n",
              "       [377.1122 ],\n",
              "       [458.66644],\n",
              "       [323.86523],\n",
              "       [517.0815 ],\n",
              "       [408.27512],\n",
              "       [554.5393 ],\n",
              "       [639.97406],\n",
              "       [535.14966],\n",
              "       [501.5977 ],\n",
              "       [633.14575],\n",
              "       [513.63184],\n",
              "       [530.0498 ],\n",
              "       [517.1832 ],\n",
              "       [455.9658 ],\n",
              "       [504.24777],\n",
              "       [459.62445],\n",
              "       [589.9218 ],\n",
              "       [464.40573],\n",
              "       [425.76242],\n",
              "       [539.895  ],\n",
              "       [492.2305 ],\n",
              "       [677.6133 ],\n",
              "       [371.48996],\n",
              "       [549.9058 ],\n",
              "       [576.1978 ],\n",
              "       [432.5289 ],\n",
              "       [541.33026],\n",
              "       [584.2298 ],\n",
              "       [577.4919 ],\n",
              "       [718.82196],\n",
              "       [431.2999 ],\n",
              "       [397.26627],\n",
              "       [312.88373],\n",
              "       [446.8154 ],\n",
              "       [386.79816],\n",
              "       [541.50653],\n",
              "       [521.0938 ],\n",
              "       [562.77594],\n",
              "       [446.5587 ],\n",
              "       [532.7512 ],\n",
              "       [380.49725],\n",
              "       [499.9335 ],\n",
              "       [635.18005],\n",
              "       [494.99817],\n",
              "       [566.6333 ],\n",
              "       [468.58978],\n",
              "       [273.20428],\n",
              "       [515.7279 ],\n",
              "       [619.51996],\n",
              "       [349.29007],\n",
              "       [448.96115],\n",
              "       [497.6975 ],\n",
              "       [541.28644],\n",
              "       [609.9856 ],\n",
              "       [386.8404 ],\n",
              "       [447.9153 ],\n",
              "       [480.87927],\n",
              "       [596.4882 ],\n",
              "       [497.77863],\n",
              "       [320.30548],\n",
              "       [553.428  ],\n",
              "       [443.1834 ],\n",
              "       [527.37054],\n",
              "       [512.34937],\n",
              "       [607.7993 ],\n",
              "       [415.58224],\n",
              "       [409.49036],\n",
              "       [458.18997],\n",
              "       [348.85226],\n",
              "       [510.08466],\n",
              "       [706.9196 ],\n",
              "       [439.79462],\n",
              "       [508.56293],\n",
              "       [564.88605],\n",
              "       [462.0722 ],\n",
              "       [517.9548 ],\n",
              "       [562.46924],\n",
              "       [609.2313 ],\n",
              "       [568.2782 ],\n",
              "       [481.91528],\n",
              "       [499.6972 ],\n",
              "       [362.2366 ],\n",
              "       [584.289  ],\n",
              "       [448.5616 ],\n",
              "       [399.00537],\n",
              "       [637.3828 ],\n",
              "       [481.83875],\n",
              "       [588.1228 ],\n",
              "       [646.5358 ],\n",
              "       [411.01907],\n",
              "       [339.40775],\n",
              "       [422.05707],\n",
              "       [533.3641 ],\n",
              "       [431.96115],\n",
              "       [369.49994],\n",
              "       [497.40802],\n",
              "       [495.53043]], dtype=float32)"
            ]
          },
          "metadata": {
            "tags": []
          },
          "execution_count": 54
        }
      ]
    },
    {
      "cell_type": "code",
      "metadata": {
        "id": "GgU2ItFOQViK",
        "colab_type": "code",
        "colab": {},
        "outputId": "91b59507-46d5-4037-8a55-6b3d03898d9f"
      },
      "source": [
        "predictions.shape"
      ],
      "execution_count": null,
      "outputs": [
        {
          "output_type": "execute_result",
          "data": {
            "text/plain": [
              "(330, 1)"
            ]
          },
          "metadata": {
            "tags": []
          },
          "execution_count": 55
        }
      ]
    },
    {
      "cell_type": "code",
      "metadata": {
        "id": "AxrS0KpMQViO",
        "colab_type": "code",
        "colab": {},
        "outputId": "15f208a6-5e98-4d40-adbe-c410c861fec7"
      },
      "source": [
        "y_test.shape"
      ],
      "execution_count": null,
      "outputs": [
        {
          "output_type": "execute_result",
          "data": {
            "text/plain": [
              "(330,)"
            ]
          },
          "metadata": {
            "tags": []
          },
          "execution_count": 56
        }
      ]
    },
    {
      "cell_type": "code",
      "metadata": {
        "id": "lKWbcM_fQViR",
        "colab_type": "code",
        "colab": {},
        "outputId": "be6458e2-84ff-4245-ae58-9f0008dd9506"
      },
      "source": [
        "y_test"
      ],
      "execution_count": null,
      "outputs": [
        {
          "output_type": "execute_result",
          "data": {
            "text/plain": [
              "array([402.29631873, 624.15619847, 582.4550663 , 578.58860646,\n",
              "       371.22410361, 584.38110772, 514.40564086, 464.11587006,\n",
              "       551.65009963, 451.8041724 , 613.95995262, 547.73198239,\n",
              "       428.31614877, 413.84178036, 654.83912076, 429.21452014,\n",
              "       512.04904895, 657.71868008, 674.31102047, 565.19184559,\n",
              "       338.0902386 , 450.9760715 , 375.13754715, 379.10982057,\n",
              "       562.05793604, 593.6677957 , 531.27754687, 423.65453319,\n",
              "       656.65474461, 412.90687671, 439.49653517, 488.78691774,\n",
              "       448.51914416, 685.21654079, 424.81078609, 418.45717839,\n",
              "       507.44318662, 550.14246248, 503.21614081, 397.88209319,\n",
              "       621.11885596, 411.57560703, 609.3840753 , 449.02606966,\n",
              "       503.51419982, 578.32901814, 664.50877632, 498.6284209 ,\n",
              "       316.9505926 , 478.35823792, 514.89474416, 374.19760282,\n",
              "       531.66193891, 405.40016562, 637.30962074, 482.55641188,\n",
              "       624.99250404, 624.24709206, 455.13953399, 484.46159148,\n",
              "       492.93591939, 477.73749721, 689.1734889 , 397.62059618,\n",
              "       698.41041396, 593.47480723, 581.54252662, 531.48237221,\n",
              "       477.4305163 , 521.79699247, 357.34223391, 527.88077226,\n",
              "       569.87336031, 523.15977914, 453.45829752, 530.13508628,\n",
              "       497.72274826, 444.67970846, 549.29054549, 633.45125327,\n",
              "       465.99980649, 567.30862153, 697.70715802, 454.32901321,\n",
              "       713.46667346, 475.17585767, 403.31557562, 592.7579165 ,\n",
              "       431.47987323, 487.18793877, 612.7537015 , 438.97699136,\n",
              "       456.89995237, 438.26540597, 501.81396346, 610.29650189,\n",
              "       323.74660823, 441.95036691, 537.6067329 , 511.89276394,\n",
              "       610.09170764, 524.32438029, 342.05906592, 578.22402034,\n",
              "       435.26155328, 564.11153791, 506.33929863, 390.86267833,\n",
              "       567.88189283, 453.9716661 , 453.49681218, 649.44006825,\n",
              "       515.32519058, 554.7626666 , 411.63794464, 477.80625993,\n",
              "       580.88060484, 667.70856487, 699.73384102, 656.97308566,\n",
              "       558.87741587, 502.8467149 , 387.64605588, 275.33337527,\n",
              "       469.07283863, 618.93363459, 375.31180205, 516.28603756,\n",
              "       502.90170221, 492.87327105, 475.94699622, 420.76621323,\n",
              "       487.7379163 , 476.52607826, 594.68664574, 574.51560687,\n",
              "       415.44298463, 625.07938608, 469.8028243 , 559.04378534,\n",
              "       404.35303251, 532.62879772, 571.70626262, 357.29591446,\n",
              "       560.67805186, 603.55869587, 381.85298995, 551.56006043,\n",
              "       564.67207171, 451.89764782, 637.85870827, 377.57042607,\n",
              "       480.87733296, 526.44751951, 380.47707861, 460.1838563 ,\n",
              "       435.09849106, 498.19000033, 355.79535223, 403.06256371,\n",
              "       604.57261409, 512.37078567, 467.66852221, 489.12458007,\n",
              "       530.00104432, 343.73541799, 511.36670783, 246.73972006,\n",
              "       504.43137263, 537.92888483, 485.50390003, 477.32136011,\n",
              "       390.2092368 , 421.05894642, 549.84762007, 479.56906767,\n",
              "       570.6460653 , 484.01952653, 606.29736199, 547.71292837,\n",
              "       547.07286694, 499.21235117, 642.3708192 , 556.83209711,\n",
              "       579.43065472, 451.79140134, 411.18423872, 432.82161991,\n",
              "       560.3817655 , 611.84754884, 433.42313493, 493.56964948,\n",
              "       579.55848998, 524.47348399, 361.42640522, 645.7084402 ,\n",
              "       522.35888373, 338.13384172, 497.46472684, 408.12200074,\n",
              "       610.58016503, 351.42908062, 524.96702947, 396.04998476,\n",
              "       258.64403747, 516.98581378, 337.95129476, 367.16096642,\n",
              "       576.8926402 , 424.72778986, 547.27579153, 518.00709658,\n",
              "       503.05044876, 331.12168828, 406.28845394, 599.99118092,\n",
              "       622.86551828, 599.92382612, 559.96108847, 470.9635849 ,\n",
              "       466.00440866, 503.27065876, 447.05319043, 514.88174058,\n",
              "       501.88831717, 410.29716167, 603.88757737, 257.71199724,\n",
              "       627.64016416, 593.23051938, 325.79480263, 481.86280607,\n",
              "       595.85363797, 375.62302356, 448.42981468, 327.56004052,\n",
              "       526.67361757, 413.87226234, 556.61215428, 646.8239136 ,\n",
              "       540.38221981, 496.89047668, 633.4727288 , 528.44015453,\n",
              "       528.12861343, 515.77844597, 462.88163084, 507.43439141,\n",
              "       467.46059552, 595.96581968, 462.00480189, 434.27528283,\n",
              "       545.58520276, 484.56010504, 679.89502292, 367.7919044 ,\n",
              "       553.90462877, 577.31665049, 425.48260511, 542.9836716 ,\n",
              "       581.24757434, 586.55980649, 722.26394433, 439.09025956,\n",
              "       400.63495186, 320.22783441, 442.93357949, 392.70436827,\n",
              "       548.61436053, 519.32640956, 564.36822362, 444.9447339 ,\n",
              "       529.71971585, 375.95938044, 505.74726413, 633.35029248,\n",
              "       491.55128715, 568.60477798, 468.35698045, 273.43263798,\n",
              "       512.58377753, 618.12341696, 354.92884232, 448.63240577,\n",
              "       504.69389644, 543.3237843 , 612.47025609, 383.93441552,\n",
              "       449.458484  , 478.04811801, 594.84047708, 491.03773416,\n",
              "       315.51892903, 560.93779062, 443.39703561, 525.70465661,\n",
              "       502.90947332, 612.72791033, 417.56972453, 410.53824963,\n",
              "       461.14062423, 353.78339461, 510.87857855, 711.65777328,\n",
              "       439.38667763, 512.04979227, 568.61318745, 466.49020065,\n",
              "       524.5896561 , 572.31305385, 613.42662915, 567.46368769,\n",
              "       481.53346268, 502.35831316, 361.96928555, 587.06918986,\n",
              "       457.77794629, 402.1955134 , 643.55257205, 490.99787402,\n",
              "       595.43348561, 655.42619806, 411.05157782, 341.68789552,\n",
              "       425.20422156, 535.54367583, 425.84365096, 368.9200954 ,\n",
              "       505.63188399, 489.79459784])"
            ]
          },
          "metadata": {
            "tags": []
          },
          "execution_count": 57
        }
      ]
    },
    {
      "cell_type": "code",
      "metadata": {
        "id": "fckrngt_QViW",
        "colab_type": "code",
        "colab": {}
      },
      "source": [
        "predictions=pd.Series(data=predictions.reshape(330,))"
      ],
      "execution_count": null,
      "outputs": []
    },
    {
      "cell_type": "code",
      "metadata": {
        "id": "cCiqZbr3QViZ",
        "colab_type": "code",
        "colab": {}
      },
      "source": [
        "model_df=pd.DataFrame(data=y_test,columns=['ACTUAL PRICES'])"
      ],
      "execution_count": null,
      "outputs": []
    },
    {
      "cell_type": "code",
      "metadata": {
        "id": "mLrwLH3VQVic",
        "colab_type": "code",
        "colab": {}
      },
      "source": [
        "model_df=pd.concat([predictions,model_df],axis=1)"
      ],
      "execution_count": null,
      "outputs": []
    },
    {
      "cell_type": "code",
      "metadata": {
        "id": "gWaAV5fzQVif",
        "colab_type": "code",
        "colab": {}
      },
      "source": [
        "model_df.columns=['PREDICTED PRICES','ACTUAL PRICES']"
      ],
      "execution_count": null,
      "outputs": []
    },
    {
      "cell_type": "code",
      "metadata": {
        "id": "AkdNc3H6QVii",
        "colab_type": "code",
        "colab": {},
        "outputId": "8a5e8ba0-9a27-4bb1-ca4c-1fd4a4f9aa21"
      },
      "source": [
        "model_df"
      ],
      "execution_count": null,
      "outputs": [
        {
          "output_type": "execute_result",
          "data": {
            "text/html": [
              "<div>\n",
              "<style scoped>\n",
              "    .dataframe tbody tr th:only-of-type {\n",
              "        vertical-align: middle;\n",
              "    }\n",
              "\n",
              "    .dataframe tbody tr th {\n",
              "        vertical-align: top;\n",
              "    }\n",
              "\n",
              "    .dataframe thead th {\n",
              "        text-align: right;\n",
              "    }\n",
              "</style>\n",
              "<table border=\"1\" class=\"dataframe\">\n",
              "  <thead>\n",
              "    <tr style=\"text-align: right;\">\n",
              "      <th></th>\n",
              "      <th>PREDICTED PRICES</th>\n",
              "      <th>ACTUAL PRICES</th>\n",
              "    </tr>\n",
              "  </thead>\n",
              "  <tbody>\n",
              "    <tr>\n",
              "      <th>0</th>\n",
              "      <td>403.930145</td>\n",
              "      <td>402.296319</td>\n",
              "    </tr>\n",
              "    <tr>\n",
              "      <th>1</th>\n",
              "      <td>621.649902</td>\n",
              "      <td>624.156198</td>\n",
              "    </tr>\n",
              "    <tr>\n",
              "      <th>2</th>\n",
              "      <td>590.325745</td>\n",
              "      <td>582.455066</td>\n",
              "    </tr>\n",
              "    <tr>\n",
              "      <th>3</th>\n",
              "      <td>570.444336</td>\n",
              "      <td>578.588606</td>\n",
              "    </tr>\n",
              "    <tr>\n",
              "      <th>4</th>\n",
              "      <td>365.318787</td>\n",
              "      <td>371.224104</td>\n",
              "    </tr>\n",
              "    <tr>\n",
              "      <th>...</th>\n",
              "      <td>...</td>\n",
              "      <td>...</td>\n",
              "    </tr>\n",
              "    <tr>\n",
              "      <th>325</th>\n",
              "      <td>533.364075</td>\n",
              "      <td>535.543676</td>\n",
              "    </tr>\n",
              "    <tr>\n",
              "      <th>326</th>\n",
              "      <td>431.961151</td>\n",
              "      <td>425.843651</td>\n",
              "    </tr>\n",
              "    <tr>\n",
              "      <th>327</th>\n",
              "      <td>369.499939</td>\n",
              "      <td>368.920095</td>\n",
              "    </tr>\n",
              "    <tr>\n",
              "      <th>328</th>\n",
              "      <td>497.408020</td>\n",
              "      <td>505.631884</td>\n",
              "    </tr>\n",
              "    <tr>\n",
              "      <th>329</th>\n",
              "      <td>495.530426</td>\n",
              "      <td>489.794598</td>\n",
              "    </tr>\n",
              "  </tbody>\n",
              "</table>\n",
              "<p>330 rows × 2 columns</p>\n",
              "</div>"
            ],
            "text/plain": [
              "     PREDICTED PRICES  ACTUAL PRICES\n",
              "0          403.930145     402.296319\n",
              "1          621.649902     624.156198\n",
              "2          590.325745     582.455066\n",
              "3          570.444336     578.588606\n",
              "4          365.318787     371.224104\n",
              "..                ...            ...\n",
              "325        533.364075     535.543676\n",
              "326        431.961151     425.843651\n",
              "327        369.499939     368.920095\n",
              "328        497.408020     505.631884\n",
              "329        495.530426     489.794598\n",
              "\n",
              "[330 rows x 2 columns]"
            ]
          },
          "metadata": {
            "tags": []
          },
          "execution_count": 70
        }
      ]
    },
    {
      "cell_type": "code",
      "metadata": {
        "id": "QaiCaH4HQVin",
        "colab_type": "code",
        "colab": {},
        "outputId": "87ca93b2-b839-48ae-8821-bd0a61f1fa54"
      },
      "source": [
        "plt.figure(figsize=(12,10))\n",
        "sns.scatterplot(x=model_df['ACTUAL PRICES'],y=model_df['PREDICTED PRICES'])"
      ],
      "execution_count": null,
      "outputs": [
        {
          "output_type": "execute_result",
          "data": {
            "text/plain": [
              "<matplotlib.axes._subplots.AxesSubplot at 0x1f200004c88>"
            ]
          },
          "metadata": {
            "tags": []
          },
          "execution_count": 74
        },
        {
          "output_type": "display_data",
          "data": {
            "image/png": "[encoded data removed]",
            "text/plain": [
              "<Figure size 864x720 with 1 Axes>"
            ]
          },
          "metadata": {
            "tags": [],
            "needs_background": "light"
          }
        }
      ]
    },
    {
      "cell_type": "code",
      "metadata": {
        "id": "JPJy_JpgQViq",
        "colab_type": "code",
        "colab": {}
      },
      "source": [
        "new_gem=[[400,200]]"
      ],
      "execution_count": null,
      "outputs": []
    },
    {
      "cell_type": "code",
      "metadata": {
        "id": "HIyG5o4nQVit",
        "colab_type": "code",
        "colab": {},
        "outputId": "fc2403b1-1527-4a2f-9d49-8ce01223a45b"
      },
      "source": [
        "scaler.fit(new_gem)"
      ],
      "execution_count": null,
      "outputs": [
        {
          "output_type": "execute_result",
          "data": {
            "text/plain": [
              "MinMaxScaler(copy=True, feature_range=(0, 1))"
            ]
          },
          "metadata": {
            "tags": []
          },
          "execution_count": 83
        }
      ]
    },
    {
      "cell_type": "code",
      "metadata": {
        "id": "6Hd-ZhhgQViw",
        "colab_type": "code",
        "colab": {},
        "outputId": "e935db88-c4aa-4b1c-f663-c23378cc5ca2"
      },
      "source": [
        "model.predict(new_gem)"
      ],
      "execution_count": null,
      "outputs": [
        {
          "output_type": "execute_result",
          "data": {
            "text/plain": [
              "array([[195298.7]], dtype=float32)"
            ]
          },
          "metadata": {
            "tags": []
          },
          "execution_count": 84
        }
      ]
    },
    {
      "cell_type": "code",
      "metadata": {
        "id": "5A8fOkOLQViz",
        "colab_type": "code",
        "colab": {}
      },
      "source": [
        "from tensorflow.keras.models import load_model"
      ],
      "execution_count": null,
      "outputs": []
    },
    {
      "cell_type": "code",
      "metadata": {
        "id": "AIvKtXYIQVi2",
        "colab_type": "code",
        "colab": {}
      },
      "source": [
        "model.save('gem_model.h5')"
      ],
      "execution_count": null,
      "outputs": []
    },
    {
      "cell_type": "code",
      "metadata": {
        "id": "4HCFK4TVQVi7",
        "colab_type": "code",
        "colab": {},
        "outputId": "83beb3e7-8c9b-4e30-c7ee-23b687d0f7da"
      },
      "source": [
        "x=load_model('gem_model.h5')"
      ],
      "execution_count": null,
      "outputs": [
        {
          "output_type": "stream",
          "text": [
            "WARNING:tensorflow:Sequential models without an `input_shape` passed to the first layer cannot reload their optimizer state. As a result, your model isstarting with a freshly initialized optimizer.\n"
          ],
          "name": "stdout"
        }
      ]
    },
    {
      "cell_type": "code",
      "metadata": {
        "id": "vGIdvBmzQVjA",
        "colab_type": "code",
        "colab": {},
        "outputId": "293b37f4-b19e-4a77-cdad-f9526928bf05"
      },
      "source": [
        "x.predict(X_test)"
      ],
      "execution_count": null,
      "outputs": [
        {
          "output_type": "execute_result",
          "data": {
            "text/plain": [
              "array([[403.93015],\n",
              "       [621.6499 ],\n",
              "       [590.32574],\n",
              "       [570.44434],\n",
              "       [365.3188 ],\n",
              "       [577.39264],\n",
              "       [513.39526],\n",
              "       [457.63004],\n",
              "       [547.5198 ],\n",
              "       [446.07294],\n",
              "       [609.92554],\n",
              "       [547.2692 ],\n",
              "       [417.70444],\n",
              "       [407.49405],\n",
              "       [649.31854],\n",
              "       [435.87115],\n",
              "       [506.8689 ],\n",
              "       [657.9262 ],\n",
              "       [660.58734],\n",
              "       [563.8017 ],\n",
              "       [333.02426],\n",
              "       [443.37637],\n",
              "       [381.21008],\n",
              "       [377.46146],\n",
              "       [564.84174],\n",
              "       [608.71735],\n",
              "       [530.71796],\n",
              "       [426.4491 ],\n",
              "       [653.4584 ],\n",
              "       [412.7134 ],\n",
              "       [441.19858],\n",
              "       [483.57486],\n",
              "       [436.977  ],\n",
              "       [679.8027 ],\n",
              "       [423.37225],\n",
              "       [416.2831 ],\n",
              "       [500.3678 ],\n",
              "       [548.7661 ],\n",
              "       [508.09576],\n",
              "       [393.99142],\n",
              "       [616.721  ],\n",
              "       [415.25095],\n",
              "       [602.6124 ],\n",
              "       [444.52475],\n",
              "       [500.39438],\n",
              "       [579.96326],\n",
              "       [667.0273 ],\n",
              "       [488.84946],\n",
              "       [317.44492],\n",
              "       [483.87033],\n",
              "       [515.63855],\n",
              "       [380.5047 ],\n",
              "       [540.24194],\n",
              "       [407.2288 ],\n",
              "       [639.5957 ],\n",
              "       [489.50397],\n",
              "       [626.01996],\n",
              "       [625.1306 ],\n",
              "       [445.61276],\n",
              "       [483.13724],\n",
              "       [489.5581 ],\n",
              "       [473.02216],\n",
              "       [680.7619 ],\n",
              "       [401.9247 ],\n",
              "       [699.0615 ],\n",
              "       [584.5928 ],\n",
              "       [581.3352 ],\n",
              "       [536.1888 ],\n",
              "       [483.02393],\n",
              "       [514.91864],\n",
              "       [359.977  ],\n",
              "       [539.0687 ],\n",
              "       [568.8625 ],\n",
              "       [526.8308 ],\n",
              "       [452.25162],\n",
              "       [529.48694],\n",
              "       [505.62204],\n",
              "       [441.8701 ],\n",
              "       [541.66956],\n",
              "       [638.8449 ],\n",
              "       [464.47943],\n",
              "       [565.51624],\n",
              "       [688.73627],\n",
              "       [457.23965],\n",
              "       [706.80133],\n",
              "       [471.17398],\n",
              "       [401.9477 ],\n",
              "       [583.30774],\n",
              "       [435.34586],\n",
              "       [487.41425],\n",
              "       [615.17236],\n",
              "       [438.0507 ],\n",
              "       [453.8352 ],\n",
              "       [433.82483],\n",
              "       [505.2923 ],\n",
              "       [606.5911 ],\n",
              "       [320.47354],\n",
              "       [434.8464 ],\n",
              "       [534.67505],\n",
              "       [516.9909 ],\n",
              "       [603.1933 ],\n",
              "       [523.7943 ],\n",
              "       [332.96677],\n",
              "       [574.41376],\n",
              "       [430.33456],\n",
              "       [560.84595],\n",
              "       [511.79037],\n",
              "       [389.75446],\n",
              "       [564.4795 ],\n",
              "       [453.3474 ],\n",
              "       [447.01663],\n",
              "       [639.03577],\n",
              "       [522.74634],\n",
              "       [548.99255],\n",
              "       [416.3066 ],\n",
              "       [477.20258],\n",
              "       [584.7281 ],\n",
              "       [665.3723 ],\n",
              "       [698.3788 ],\n",
              "       [657.39453],\n",
              "       [558.8335 ],\n",
              "       [501.59454],\n",
              "       [389.0185 ],\n",
              "       [280.2785 ],\n",
              "       [478.0857 ],\n",
              "       [614.5226 ],\n",
              "       [372.05463],\n",
              "       [510.64825],\n",
              "       [509.3956 ],\n",
              "       [491.9071 ],\n",
              "       [478.92377],\n",
              "       [422.37213],\n",
              "       [491.8837 ],\n",
              "       [469.95892],\n",
              "       [598.63983],\n",
              "       [571.84564],\n",
              "       [413.56396],\n",
              "       [628.7508 ],\n",
              "       [464.87903],\n",
              "       [562.609  ],\n",
              "       [404.3295 ],\n",
              "       [530.5112 ],\n",
              "       [570.8744 ],\n",
              "       [355.83066],\n",
              "       [548.12445],\n",
              "       [601.5214 ],\n",
              "       [382.9929 ],\n",
              "       [540.6937 ],\n",
              "       [560.8612 ],\n",
              "       [451.42975],\n",
              "       [630.3034 ],\n",
              "       [370.9593 ],\n",
              "       [472.71985],\n",
              "       [527.1986 ],\n",
              "       [371.0338 ],\n",
              "       [459.73447],\n",
              "       [434.86923],\n",
              "       [496.91333],\n",
              "       [344.91937],\n",
              "       [393.97192],\n",
              "       [602.7537 ],\n",
              "       [505.06152],\n",
              "       [467.10376],\n",
              "       [488.81854],\n",
              "       [533.63214],\n",
              "       [343.2866 ],\n",
              "       [510.74493],\n",
              "       [249.83017],\n",
              "       [502.49597],\n",
              "       [539.3976 ],\n",
              "       [487.81015],\n",
              "       [469.6027 ],\n",
              "       [391.22812],\n",
              "       [414.898  ],\n",
              "       [547.86835],\n",
              "       [474.25455],\n",
              "       [578.15857],\n",
              "       [488.19653],\n",
              "       [599.13605],\n",
              "       [545.31305],\n",
              "       [540.2883 ],\n",
              "       [499.0005 ],\n",
              "       [643.8967 ],\n",
              "       [558.6846 ],\n",
              "       [576.19415],\n",
              "       [442.70483],\n",
              "       [414.1571 ],\n",
              "       [418.6316 ],\n",
              "       [567.388  ],\n",
              "       [607.15894],\n",
              "       [436.338  ],\n",
              "       [486.42447],\n",
              "       [585.94104],\n",
              "       [523.72675],\n",
              "       [356.12106],\n",
              "       [643.4759 ],\n",
              "       [526.3736 ],\n",
              "       [336.02386],\n",
              "       [491.12558],\n",
              "       [408.807  ],\n",
              "       [604.76666],\n",
              "       [345.3394 ],\n",
              "       [520.798  ],\n",
              "       [403.34634],\n",
              "       [257.38913],\n",
              "       [518.2766 ],\n",
              "       [339.7254 ],\n",
              "       [360.77982],\n",
              "       [574.67096],\n",
              "       [415.31146],\n",
              "       [549.2734 ],\n",
              "       [519.4436 ],\n",
              "       [509.0075 ],\n",
              "       [323.59872],\n",
              "       [402.77914],\n",
              "       [600.5575 ],\n",
              "       [615.98267],\n",
              "       [601.4103 ],\n",
              "       [564.56903],\n",
              "       [471.89496],\n",
              "       [458.88516],\n",
              "       [506.82666],\n",
              "       [444.46432],\n",
              "       [509.7244 ],\n",
              "       [500.7676 ],\n",
              "       [398.8064 ],\n",
              "       [603.69104],\n",
              "       [257.13412],\n",
              "       [626.3689 ],\n",
              "       [587.3686 ],\n",
              "       [325.99594],\n",
              "       [478.00174],\n",
              "       [593.5392 ],\n",
              "       [377.1122 ],\n",
              "       [458.66644],\n",
              "       [323.86523],\n",
              "       [517.0815 ],\n",
              "       [408.27512],\n",
              "       [554.5393 ],\n",
              "       [639.97406],\n",
              "       [535.14966],\n",
              "       [501.5977 ],\n",
              "       [633.14575],\n",
              "       [513.63184],\n",
              "       [530.0498 ],\n",
              "       [517.1832 ],\n",
              "       [455.9658 ],\n",
              "       [504.24777],\n",
              "       [459.62445],\n",
              "       [589.9218 ],\n",
              "       [464.40573],\n",
              "       [425.76242],\n",
              "       [539.895  ],\n",
              "       [492.2305 ],\n",
              "       [677.6133 ],\n",
              "       [371.48996],\n",
              "       [549.9058 ],\n",
              "       [576.1978 ],\n",
              "       [432.5289 ],\n",
              "       [541.33026],\n",
              "       [584.2298 ],\n",
              "       [577.4919 ],\n",
              "       [718.82196],\n",
              "       [431.2999 ],\n",
              "       [397.26627],\n",
              "       [312.88373],\n",
              "       [446.8154 ],\n",
              "       [386.79816],\n",
              "       [541.50653],\n",
              "       [521.0938 ],\n",
              "       [562.77594],\n",
              "       [446.5587 ],\n",
              "       [532.7512 ],\n",
              "       [380.49725],\n",
              "       [499.9335 ],\n",
              "       [635.18005],\n",
              "       [494.99817],\n",
              "       [566.6333 ],\n",
              "       [468.58978],\n",
              "       [273.20428],\n",
              "       [515.7279 ],\n",
              "       [619.51996],\n",
              "       [349.29007],\n",
              "       [448.96115],\n",
              "       [497.6975 ],\n",
              "       [541.28644],\n",
              "       [609.9856 ],\n",
              "       [386.8404 ],\n",
              "       [447.9153 ],\n",
              "       [480.87927],\n",
              "       [596.4882 ],\n",
              "       [497.77863],\n",
              "       [320.30548],\n",
              "       [553.428  ],\n",
              "       [443.1834 ],\n",
              "       [527.37054],\n",
              "       [512.34937],\n",
              "       [607.7993 ],\n",
              "       [415.58224],\n",
              "       [409.49036],\n",
              "       [458.18997],\n",
              "       [348.85226],\n",
              "       [510.08466],\n",
              "       [706.9196 ],\n",
              "       [439.79462],\n",
              "       [508.56293],\n",
              "       [564.88605],\n",
              "       [462.0722 ],\n",
              "       [517.9548 ],\n",
              "       [562.46924],\n",
              "       [609.2313 ],\n",
              "       [568.2782 ],\n",
              "       [481.91528],\n",
              "       [499.6972 ],\n",
              "       [362.2366 ],\n",
              "       [584.289  ],\n",
              "       [448.5616 ],\n",
              "       [399.00537],\n",
              "       [637.3828 ],\n",
              "       [481.83875],\n",
              "       [588.1228 ],\n",
              "       [646.5358 ],\n",
              "       [411.01907],\n",
              "       [339.40775],\n",
              "       [422.05707],\n",
              "       [533.3641 ],\n",
              "       [431.96115],\n",
              "       [369.49994],\n",
              "       [497.40802],\n",
              "       [495.53043]], dtype=float32)"
            ]
          },
          "metadata": {
            "tags": []
          },
          "execution_count": 88
        }
      ]
    },
    {
      "cell_type": "code",
      "metadata": {
        "id": "7Fvn9YkKQVjD",
        "colab_type": "code",
        "colab": {}
      },
      "source": [
        "from sklearn.metrics import mean_absolute_error"
      ],
      "execution_count": null,
      "outputs": []
    },
    {
      "cell_type": "code",
      "metadata": {
        "id": "Giaj-rLAQVjH",
        "colab_type": "code",
        "colab": {},
        "outputId": "f23f97b3-3bf4-45b7-9ee4-9829a5943a14"
      },
      "source": [
        "mean_absolute_error(y_true=model_df['ACTUAL PRICES'],y_pred=model_df['PREDICTED PRICES'])"
      ],
      "execution_count": null,
      "outputs": [
        {
          "output_type": "execute_result",
          "data": {
            "text/plain": [
              "4.1830343442730085"
            ]
          },
          "metadata": {
            "tags": []
          },
          "execution_count": 90
        }
      ]
    },
    {
      "cell_type": "code",
      "metadata": {
        "id": "2l16q4-gQVjL",
        "colab_type": "code",
        "colab": {}
      },
      "source": [
        ""
      ],
      "execution_count": null,
      "outputs": []
    }
  ]
}